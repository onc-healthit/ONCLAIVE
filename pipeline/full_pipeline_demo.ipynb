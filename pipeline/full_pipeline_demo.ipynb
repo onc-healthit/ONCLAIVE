{
 "cells": [
  {
   "cell_type": "markdown",
   "id": "73e3a524",
   "metadata": {},
   "source": [
    "## FHIR Implementation Guide Testing Pipeline\n",
    "This notebook provides a comprehensive pipeline for automatically extracting requirements from FHIR Implementation Guides and generating executable test suites. The pipeline transforms Implementation Guide (IG) documentation into structured test code that can validate FHIR server implementations.\n",
    "\n",
    "#### Overview\n",
    "This automated pipeline takes FHIR Implementation Guide documentation and produces comprehensive test suites through several integrated stages:\n",
    "\n",
    "- Implementation Guide Preparation: Convert and clean IG HTML documentation to markdown format\n",
    "- Requirements Extraction: Use AI to identify and extract testable requirements from the IG\n",
    "- Requirements Refinement: Consolidate and refine the extracted requirements\n",
    "- Requirements Downselection: Combine multiple requirement sets and remove duplicates\n",
    "- Test Plan Generation: Convert requirements into detailed test specifications\n",
    "- Test Kit Generation: Generate executable Inferno test code\n",
    "\n",
    "#### Running this Notebook\n",
    "The notebook is structured to run each stage sequentially. You can either:\n",
    "\n",
    "- Run the complete pipeline: Execute all cells to process a complete IG\n",
    "- Run individual stages: Execute specific sections as needed\n",
    "\n",
    "Inputs and output directories can be customized for each step. The pipeline automatically saves intermediate outputs in checkpoint directories for review and iteration.\n",
    "\n",
    "#### Output Structure\n",
    "The pipeline generates organized outputs in checkpoint directories:\n",
    "\n",
    "checkpoints/\n",
    "\n",
    "├── markdown1/          # Converted markdown files\n",
    "\n",
    "├── markdown2/          # Cleaned markdown files  \n",
    "\n",
    "├── requirements_extraction/   # Initial AI-extracted requirements\n",
    "\n",
    "├── revised_reqs_extraction/  # Refined requirements lists\n",
    "\n",
    "├── requirements_downselect/  # Final consolidated requirements\n",
    "\n",
    "├── testplan_generation/     # Detailed test specifications\n",
    "\n",
    "└── testkit_generation/      # Executable Inferno test suites\n",
    "\n",
    "Each stage preserves its outputs, allowing for iteration, review, and alternative processing paths."
   ]
  },
  {
   "cell_type": "markdown",
   "id": "8a5d267b",
   "metadata": {},
   "source": [
    "## Setup"
   ]
  },
  {
   "cell_type": "markdown",
   "id": "9de19ee6",
   "metadata": {},
   "source": [
    "#### Importing required packages"
   ]
  },
  {
   "cell_type": "code",
   "execution_count": null,
   "id": "d9fc5ddc",
   "metadata": {},
   "outputs": [],
   "source": [
    "import inspect\n",
    "import json\n",
    "import llm_utils\n",
    "import importlib\n",
    "import tiktoken\n",
    "import requests\n",
    "from bs4 import BeautifulSoup\n",
    "from urllib.parse import urlparse\n",
    "from glob import glob"
   ]
  },
  {
   "cell_type": "markdown",
   "id": "0de7a6cc",
   "metadata": {},
   "source": [
    "## Initializing LLM Clients"
   ]
  },
  {
   "cell_type": "code",
   "execution_count": null,
   "id": "3ead91a2",
   "metadata": {},
   "outputs": [],
   "source": [
    "importlib.reload(llm_utils)\n",
    "llm_clients = llm_utils.LLMApiClient()"
   ]
  },
  {
   "cell_type": "code",
   "execution_count": 3,
   "id": "c39d130b",
   "metadata": {},
   "outputs": [
    {
     "data": {
      "text/plain": [
       "{'claude': <anthropic.Anthropic at 0x105de6900>,\n",
       " 'gemini': genai.GenerativeModel(\n",
       "     model_name='models/gemini-1.5-pro',\n",
       "     generation_config={'max_output_tokens': 8192, 'temperature': 0.3},\n",
       "     safety_settings={<HarmCategory.HARM_CATEGORY_HARASSMENT: 7>: <HarmBlockThreshold.BLOCK_NONE: 4>, <HarmCategory.HARM_CATEGORY_HATE_SPEECH: 8>: <HarmBlockThreshold.BLOCK_NONE: 4>, <HarmCategory.HARM_CATEGORY_SEXUALLY_EXPLICIT: 9>: <HarmBlockThreshold.BLOCK_NONE: 4>, <HarmCategory.HARM_CATEGORY_DANGEROUS_CONTENT: 10>: <HarmBlockThreshold.BLOCK_NONE: 4>},\n",
       "     tools=None,\n",
       "     system_instruction=None,\n",
       "     cached_content=None\n",
       " ),\n",
       " 'gpt': <openai.OpenAI at 0x110923d40>}"
      ]
     },
     "execution_count": 3,
     "metadata": {},
     "output_type": "execute_result"
    }
   ],
   "source": [
    "llm_clients.clients"
   ]
  },
  {
   "cell_type": "markdown",
   "id": "8e6d80d1",
   "metadata": {},
   "source": [
    "## Implementation Guide Preparation\n",
    "\n",
    "### Stage 1: Text Extraction and Cleaning\n",
    "- Converts HTML IG files to markdown format\n",
    "- Cleans unnecessary content (navigation, headers, formatting artifacts)\n",
    "- Prepares clean, structured text for AI processing\n",
    "\n",
    "Inputs: HTML files from FHIR IG downloads\n",
    "\n",
    "Outputs: Clean markdown files"
   ]
  },
  {
   "cell_type": "markdown",
   "id": "08717e1c",
   "metadata": {},
   "source": [
    "#### 1a) HTML to Markdown Conversion"
   ]
  },
  {
   "cell_type": "code",
   "execution_count": 4,
   "id": "61ff8f8d",
   "metadata": {},
   "outputs": [
    {
     "name": "stdout",
     "output_type": "stream",
     "text": [
      "Found 1 HTML files to process\n",
      "Processed 1/1 files\n",
      "Conversion complete. Successfully processed 1 files. Encountered 0 errors.\n"
     ]
    }
   ],
   "source": [
    "import html_narrative_extractor_01 #import html extractor module\n",
    "\n",
    "# Process directory with default settings\n",
    "result = html_narrative_extractor_01.convert_local_html_to_markdown(\n",
    "    input_dir=\"../us-core/test_set\", #input directory of downloaded IG HTML files\n",
    "    output_dir=\"checkpoints/demo/markdown1/\" #output directory\n",
    ")"
   ]
  },
  {
   "cell_type": "markdown",
   "id": "b0108ece",
   "metadata": {},
   "source": [
    "#### 1b) Markdown Post-processing"
   ]
  },
  {
   "cell_type": "code",
   "execution_count": 5,
   "id": "aec7806b",
   "metadata": {},
   "outputs": [
    {
     "name": "stdout",
     "output_type": "stream",
     "text": [
      "Found 1 markdown files in checkpoints/demo/markdown1\n",
      "Cleaned and saved: checkpoints/demo/markdown2/CapabilityStatement-us-core-server.md\n",
      "\n",
      "Processing complete: 1 files successfully cleaned, 0 failed\n"
     ]
    },
    {
     "data": {
      "text/plain": [
       "{'total_files': 1, 'successful': 1, 'failed': 0, 'failed_files': []}"
      ]
     },
     "execution_count": 5,
     "metadata": {},
     "output_type": "execute_result"
    }
   ],
   "source": [
    "import markdown_cleaner_02 #import markdown cleaner module\n",
    "markdown_cleaner_02.process_directory(\n",
    "    input_dir=\"checkpoints/demo/markdown1\", #input directory of IG markdown files\n",
    "    output_dir=\"checkpoints/demo/markdown2/\") #output directory"
   ]
  },
  {
   "cell_type": "markdown",
   "id": "eb3fa2d1",
   "metadata": {},
   "source": [
    "## Stage 2: Requirements Extraction"
   ]
  },
  {
   "cell_type": "markdown",
   "id": "be0566ab",
   "metadata": {},
   "source": [
    "### 2a) Prompt-based Requirement Extraction\n",
    "LLM Requirements Identification\n",
    "- Processes markdown files using LLM to extract clear, testable requirements\n",
    "- Formats requirements according to set standards, following INCOSE guidance\n",
    "- Generates structured requirements with IDs, descriptions, actors, and conformance levels\n",
    "- Handles large documents through chunking\n",
    "- Provides source tracking\n",
    "\n",
    "Inputs: Cleaned IG markdown files\n",
    "\n",
    "Outputs: Structured requirements list as markdown file"
   ]
  },
  {
   "cell_type": "code",
   "execution_count": 6,
   "id": "c7fd5bf6",
   "metadata": {},
   "outputs": [
    {
     "data": {
      "text/plain": [
       "<module 'reqs_extraction_03' from '/Users/ceadams/Documents/onclaive/onclaive/pipeline/reqs_extraction_03.py'>"
      ]
     },
     "execution_count": 6,
     "metadata": {},
     "output_type": "execute_result"
    }
   ],
   "source": [
    "import reqs_extraction_03 #import LLM requirements extraction module\n",
    "importlib.reload(reqs_extraction_03)"
   ]
  },
  {
   "cell_type": "code",
   "execution_count": 7,
   "id": "31999d1d",
   "metadata": {},
   "outputs": [
    {
     "name": "stdout",
     "output_type": "stream",
     "text": [
      "\n",
      "Processing Implementation Guide with Claude...\n",
      "This may take several minutes depending on the size of the Implementation Guide.\n",
      "\n",
      "[1/1] Processing single file: ConditionProfile-CapabilityStatement-us-core-server.md\n",
      "    Processing chunk 1/1\r"
     ]
    },
    {
     "ename": "KeyboardInterrupt",
     "evalue": "",
     "output_type": "error",
     "traceback": [
      "\u001b[31m---------------------------------------------------------------------------\u001b[39m",
      "\u001b[31mKeyboardInterrupt\u001b[39m                         Traceback (most recent call last)",
      "\u001b[36mCell\u001b[39m\u001b[36m \u001b[39m\u001b[32mIn[7]\u001b[39m\u001b[32m, line 1\u001b[39m\n\u001b[32m----> \u001b[39m\u001b[32m1\u001b[39m \u001b[43mreqs_extraction_03\u001b[49m\u001b[43m.\u001b[49m\u001b[43mrun_requirements_extractor\u001b[49m\u001b[43m(\u001b[49m\n\u001b[32m      2\u001b[39m \u001b[43m    \u001b[49m\u001b[43mmarkdown_dir\u001b[49m\u001b[43m=\u001b[49m\u001b[33;43m'\u001b[39;49m\u001b[33;43mcheckpoints/demo/condition_profile\u001b[39;49m\u001b[33;43m'\u001b[39;49m\u001b[43m,\u001b[49m\u001b[43m \u001b[49m\u001b[38;5;66;43;03m#input directory of markdown files\u001b[39;49;00m\n\u001b[32m      3\u001b[39m \u001b[43m    \u001b[49m\u001b[43moutput_dir\u001b[49m\u001b[43m=\u001b[49m\u001b[33;43m'\u001b[39;49m\u001b[33;43mcheckpoints/demo/requirements_extraction/\u001b[39;49m\u001b[33;43m'\u001b[39;49m\u001b[43m,\u001b[49m\u001b[43m \u001b[49m\u001b[38;5;66;43;03m#output directory\u001b[39;49;00m\n\u001b[32m      4\u001b[39m \u001b[43m    \u001b[49m\u001b[43mapi_type\u001b[49m\u001b[43m=\u001b[49m\u001b[43m \u001b[49m\u001b[33;43m'\u001b[39;49m\u001b[33;43mclaude\u001b[39;49m\u001b[33;43m'\u001b[39;49m\u001b[43m,\u001b[49m\u001b[43m \u001b[49m\u001b[38;5;66;43;03m#set API type\u001b[39;49;00m\n\u001b[32m      5\u001b[39m \u001b[43m    \u001b[49m\u001b[43mclient_instance\u001b[49m\u001b[43m=\u001b[49m\u001b[43mllm_clients\u001b[49m\u001b[43m)\u001b[49m \u001b[38;5;66;03m#initialize llm clients\u001b[39;00m\n",
      "\u001b[36mFile \u001b[39m\u001b[32m~/Documents/onclaive/onclaive/pipeline/reqs_extraction_03.py:515\u001b[39m, in \u001b[36mrun_requirements_extractor\u001b[39m\u001b[34m(markdown_dir, output_dir, api_type, client_instance, max_files)\u001b[39m\n\u001b[32m    512\u001b[39m \u001b[38;5;28mprint\u001b[39m(\u001b[33m\"\u001b[39m\u001b[33mThis may take several minutes depending on the size of the Implementation Guide.\u001b[39m\u001b[33m\"\u001b[39m)\n\u001b[32m    514\u001b[39m \u001b[38;5;66;03m# Process the markdown files and generate direct INCOSE SRS document\u001b[39;00m\n\u001b[32m--> \u001b[39m\u001b[32m515\u001b[39m api_results = \u001b[43mprocess_markdown_content_for_incose_srs\u001b[49m\u001b[43m(\u001b[49m\n\u001b[32m    516\u001b[39m \u001b[43m    \u001b[49m\u001b[43mclient_instance\u001b[49m\u001b[43m=\u001b[49m\u001b[43mclient_instance\u001b[49m\u001b[43m,\u001b[49m\n\u001b[32m    517\u001b[39m \u001b[43m    \u001b[49m\u001b[43mapi_type\u001b[49m\u001b[43m=\u001b[49m\u001b[43mapi_type\u001b[49m\u001b[43m,\u001b[49m\u001b[43m \u001b[49m\n\u001b[32m    518\u001b[39m \u001b[43m    \u001b[49m\u001b[43mmarkdown_dir\u001b[49m\u001b[43m=\u001b[49m\u001b[43mmarkdown_dir\u001b[49m\u001b[43m,\u001b[49m\n\u001b[32m    519\u001b[39m \u001b[43m    \u001b[49m\u001b[43moutput_dir\u001b[49m\u001b[43m=\u001b[49m\u001b[43moutput_dir\u001b[49m\u001b[43m,\u001b[49m\n\u001b[32m    520\u001b[39m \u001b[43m    \u001b[49m\u001b[43mmax_files\u001b[49m\u001b[43m=\u001b[49m\u001b[43mmax_files\u001b[49m\n\u001b[32m    521\u001b[39m \u001b[43m\u001b[49m\u001b[43m)\u001b[49m\n\u001b[32m    523\u001b[39m \u001b[38;5;66;03m# Output the results to the user\u001b[39;00m\n\u001b[32m    524\u001b[39m \u001b[38;5;28mprint\u001b[39m(\u001b[33m\"\u001b[39m\u001b[38;5;130;01m\\n\u001b[39;00m\u001b[33m\"\u001b[39m + \u001b[33m\"\u001b[39m\u001b[33m=\u001b[39m\u001b[33m\"\u001b[39m*\u001b[32m80\u001b[39m)\n",
      "\u001b[36mFile \u001b[39m\u001b[32m~/Documents/onclaive/onclaive/pipeline/reqs_extraction_03.py:354\u001b[39m, in \u001b[36mprocess_markdown_content_for_incose_srs\u001b[39m\u001b[34m(client_instance, api_type, markdown_dir, output_dir, max_files)\u001b[39m\n\u001b[32m    351\u001b[39m     prompt_text = formatted_content\n\u001b[32m    353\u001b[39m \u001b[38;5;28;01mtry\u001b[39;00m:\n\u001b[32m--> \u001b[39m\u001b[32m354\u001b[39m     response = \u001b[43mclient_instance\u001b[49m\u001b[43m.\u001b[49m\u001b[43mmake_llm_request\u001b[49m\u001b[43m(\u001b[49m\u001b[43mapi_type\u001b[49m\u001b[43m,\u001b[49m\u001b[43m \u001b[49m\u001b[43mprompt_text\u001b[49m\u001b[43m,\u001b[49m\u001b[43m \u001b[49m\u001b[43msys_prompt\u001b[49m\u001b[43m=\u001b[49m\u001b[43mSYSTEM_PROMPTS\u001b[49m\u001b[43m[\u001b[49m\u001b[43mapi_type\u001b[49m\u001b[43m]\u001b[49m\u001b[43m)\u001b[49m\n\u001b[32m    355\u001b[39m     all_requirements.append(response)\n\u001b[32m    356\u001b[39m \u001b[38;5;28;01mexcept\u001b[39;00m SafetyFilterException \u001b[38;5;28;01mas\u001b[39;00m e:\n",
      "\u001b[36mFile \u001b[39m\u001b[32m~/Documents/onclaive/onclaive/pipeline/llm_utils2.py:522\u001b[39m, in \u001b[36mLLMApiClient.make_llm_request\u001b[39m\u001b[34m(self, api_type, prompt, sys_prompt, raise_on_error, reformat, max_tokens)\u001b[39m\n\u001b[32m    520\u001b[39m query = format_content_for_api(prompt, api_type) \u001b[38;5;28;01mif\u001b[39;00m reformat \u001b[38;5;28;01melse\u001b[39;00m prompt\n\u001b[32m    521\u001b[39m \u001b[38;5;28;01mtry\u001b[39;00m:\n\u001b[32m--> \u001b[39m\u001b[32m522\u001b[39m     \u001b[38;5;28;01mreturn\u001b[39;00m \u001b[38;5;28;43mself\u001b[39;49m\u001b[43m.\u001b[49m\u001b[43mmake_one_llm_request\u001b[49m\u001b[43m(\u001b[49m\u001b[43mapi_type\u001b[49m\u001b[43m,\u001b[49m\u001b[43m \u001b[49m\u001b[43mquery\u001b[49m\u001b[43m,\u001b[49m\u001b[43m \u001b[49m\u001b[43msystem_prompt\u001b[49m\u001b[43m,\u001b[49m\u001b[43m \u001b[49m\u001b[43mmax_tokens\u001b[49m\u001b[43m)\u001b[49m\n\u001b[32m    523\u001b[39m \u001b[38;5;28;01mexcept\u001b[39;00m SafetyFilterException \u001b[38;5;28;01mas\u001b[39;00m e:\n\u001b[32m    524\u001b[39m     \u001b[38;5;28mself\u001b[39m.safety_blocked_count += \u001b[32m1\u001b[39m\n",
      "\u001b[36mFile \u001b[39m\u001b[32m~/Documents/onclaive/onclaive/.venv/lib/python3.12/site-packages/tenacity/__init__.py:336\u001b[39m, in \u001b[36mBaseRetrying.wraps.<locals>.wrapped_f\u001b[39m\u001b[34m(*args, **kw)\u001b[39m\n\u001b[32m    334\u001b[39m copy = \u001b[38;5;28mself\u001b[39m.copy()\n\u001b[32m    335\u001b[39m wrapped_f.statistics = copy.statistics  \u001b[38;5;66;03m# type: ignore[attr-defined]\u001b[39;00m\n\u001b[32m--> \u001b[39m\u001b[32m336\u001b[39m \u001b[38;5;28;01mreturn\u001b[39;00m \u001b[43mcopy\u001b[49m\u001b[43m(\u001b[49m\u001b[43mf\u001b[49m\u001b[43m,\u001b[49m\u001b[43m \u001b[49m\u001b[43m*\u001b[49m\u001b[43margs\u001b[49m\u001b[43m,\u001b[49m\u001b[43m \u001b[49m\u001b[43m*\u001b[49m\u001b[43m*\u001b[49m\u001b[43mkw\u001b[49m\u001b[43m)\u001b[49m\n",
      "\u001b[36mFile \u001b[39m\u001b[32m~/Documents/onclaive/onclaive/.venv/lib/python3.12/site-packages/tenacity/__init__.py:475\u001b[39m, in \u001b[36mRetrying.__call__\u001b[39m\u001b[34m(self, fn, *args, **kwargs)\u001b[39m\n\u001b[32m    473\u001b[39m retry_state = RetryCallState(retry_object=\u001b[38;5;28mself\u001b[39m, fn=fn, args=args, kwargs=kwargs)\n\u001b[32m    474\u001b[39m \u001b[38;5;28;01mwhile\u001b[39;00m \u001b[38;5;28;01mTrue\u001b[39;00m:\n\u001b[32m--> \u001b[39m\u001b[32m475\u001b[39m     do = \u001b[38;5;28;43mself\u001b[39;49m\u001b[43m.\u001b[49m\u001b[43miter\u001b[49m\u001b[43m(\u001b[49m\u001b[43mretry_state\u001b[49m\u001b[43m=\u001b[49m\u001b[43mretry_state\u001b[49m\u001b[43m)\u001b[49m\n\u001b[32m    476\u001b[39m     \u001b[38;5;28;01mif\u001b[39;00m \u001b[38;5;28misinstance\u001b[39m(do, DoAttempt):\n\u001b[32m    477\u001b[39m         \u001b[38;5;28;01mtry\u001b[39;00m:\n",
      "\u001b[36mFile \u001b[39m\u001b[32m~/Documents/onclaive/onclaive/.venv/lib/python3.12/site-packages/tenacity/__init__.py:376\u001b[39m, in \u001b[36mBaseRetrying.iter\u001b[39m\u001b[34m(self, retry_state)\u001b[39m\n\u001b[32m    374\u001b[39m result = \u001b[38;5;28;01mNone\u001b[39;00m\n\u001b[32m    375\u001b[39m \u001b[38;5;28;01mfor\u001b[39;00m action \u001b[38;5;129;01min\u001b[39;00m \u001b[38;5;28mself\u001b[39m.iter_state.actions:\n\u001b[32m--> \u001b[39m\u001b[32m376\u001b[39m     result = \u001b[43maction\u001b[49m\u001b[43m(\u001b[49m\u001b[43mretry_state\u001b[49m\u001b[43m)\u001b[49m\n\u001b[32m    377\u001b[39m \u001b[38;5;28;01mreturn\u001b[39;00m result\n",
      "\u001b[36mFile \u001b[39m\u001b[32m~/Documents/onclaive/onclaive/.venv/lib/python3.12/site-packages/tenacity/__init__.py:398\u001b[39m, in \u001b[36mBaseRetrying._post_retry_check_actions.<locals>.<lambda>\u001b[39m\u001b[34m(rs)\u001b[39m\n\u001b[32m    396\u001b[39m \u001b[38;5;28;01mdef\u001b[39;00m\u001b[38;5;250m \u001b[39m\u001b[34m_post_retry_check_actions\u001b[39m(\u001b[38;5;28mself\u001b[39m, retry_state: \u001b[33m\"\u001b[39m\u001b[33mRetryCallState\u001b[39m\u001b[33m\"\u001b[39m) -> \u001b[38;5;28;01mNone\u001b[39;00m:\n\u001b[32m    397\u001b[39m     \u001b[38;5;28;01mif\u001b[39;00m \u001b[38;5;129;01mnot\u001b[39;00m (\u001b[38;5;28mself\u001b[39m.iter_state.is_explicit_retry \u001b[38;5;129;01mor\u001b[39;00m \u001b[38;5;28mself\u001b[39m.iter_state.retry_run_result):\n\u001b[32m--> \u001b[39m\u001b[32m398\u001b[39m         \u001b[38;5;28mself\u001b[39m._add_action_func(\u001b[38;5;28;01mlambda\u001b[39;00m rs: \u001b[43mrs\u001b[49m\u001b[43m.\u001b[49m\u001b[43moutcome\u001b[49m\u001b[43m.\u001b[49m\u001b[43mresult\u001b[49m\u001b[43m(\u001b[49m\u001b[43m)\u001b[49m)\n\u001b[32m    399\u001b[39m         \u001b[38;5;28;01mreturn\u001b[39;00m\n\u001b[32m    401\u001b[39m     \u001b[38;5;28;01mif\u001b[39;00m \u001b[38;5;28mself\u001b[39m.after \u001b[38;5;129;01mis\u001b[39;00m \u001b[38;5;129;01mnot\u001b[39;00m \u001b[38;5;28;01mNone\u001b[39;00m:\n",
      "\u001b[36mFile \u001b[39m\u001b[32m/opt/homebrew/Cellar/python@3.12/3.12.6/Frameworks/Python.framework/Versions/3.12/lib/python3.12/concurrent/futures/_base.py:449\u001b[39m, in \u001b[36mFuture.result\u001b[39m\u001b[34m(self, timeout)\u001b[39m\n\u001b[32m    447\u001b[39m     \u001b[38;5;28;01mraise\u001b[39;00m CancelledError()\n\u001b[32m    448\u001b[39m \u001b[38;5;28;01melif\u001b[39;00m \u001b[38;5;28mself\u001b[39m._state == FINISHED:\n\u001b[32m--> \u001b[39m\u001b[32m449\u001b[39m     \u001b[38;5;28;01mreturn\u001b[39;00m \u001b[38;5;28;43mself\u001b[39;49m\u001b[43m.\u001b[49m\u001b[43m__get_result\u001b[49m\u001b[43m(\u001b[49m\u001b[43m)\u001b[49m\n\u001b[32m    451\u001b[39m \u001b[38;5;28mself\u001b[39m._condition.wait(timeout)\n\u001b[32m    453\u001b[39m \u001b[38;5;28;01mif\u001b[39;00m \u001b[38;5;28mself\u001b[39m._state \u001b[38;5;129;01min\u001b[39;00m [CANCELLED, CANCELLED_AND_NOTIFIED]:\n",
      "\u001b[36mFile \u001b[39m\u001b[32m/opt/homebrew/Cellar/python@3.12/3.12.6/Frameworks/Python.framework/Versions/3.12/lib/python3.12/concurrent/futures/_base.py:401\u001b[39m, in \u001b[36mFuture.__get_result\u001b[39m\u001b[34m(self)\u001b[39m\n\u001b[32m    399\u001b[39m \u001b[38;5;28;01mif\u001b[39;00m \u001b[38;5;28mself\u001b[39m._exception:\n\u001b[32m    400\u001b[39m     \u001b[38;5;28;01mtry\u001b[39;00m:\n\u001b[32m--> \u001b[39m\u001b[32m401\u001b[39m         \u001b[38;5;28;01mraise\u001b[39;00m \u001b[38;5;28mself\u001b[39m._exception\n\u001b[32m    402\u001b[39m     \u001b[38;5;28;01mfinally\u001b[39;00m:\n\u001b[32m    403\u001b[39m         \u001b[38;5;66;03m# Break a reference cycle with the exception in self._exception\u001b[39;00m\n\u001b[32m    404\u001b[39m         \u001b[38;5;28mself\u001b[39m = \u001b[38;5;28;01mNone\u001b[39;00m\n",
      "\u001b[36mFile \u001b[39m\u001b[32m~/Documents/onclaive/onclaive/.venv/lib/python3.12/site-packages/tenacity/__init__.py:478\u001b[39m, in \u001b[36mRetrying.__call__\u001b[39m\u001b[34m(self, fn, *args, **kwargs)\u001b[39m\n\u001b[32m    476\u001b[39m \u001b[38;5;28;01mif\u001b[39;00m \u001b[38;5;28misinstance\u001b[39m(do, DoAttempt):\n\u001b[32m    477\u001b[39m     \u001b[38;5;28;01mtry\u001b[39;00m:\n\u001b[32m--> \u001b[39m\u001b[32m478\u001b[39m         result = \u001b[43mfn\u001b[49m\u001b[43m(\u001b[49m\u001b[43m*\u001b[49m\u001b[43margs\u001b[49m\u001b[43m,\u001b[49m\u001b[43m \u001b[49m\u001b[43m*\u001b[49m\u001b[43m*\u001b[49m\u001b[43mkwargs\u001b[49m\u001b[43m)\u001b[49m\n\u001b[32m    479\u001b[39m     \u001b[38;5;28;01mexcept\u001b[39;00m \u001b[38;5;167;01mBaseException\u001b[39;00m:  \u001b[38;5;66;03m# noqa: B902\u001b[39;00m\n\u001b[32m    480\u001b[39m         retry_state.set_exception(sys.exc_info())  \u001b[38;5;66;03m# type: ignore[arg-type]\u001b[39;00m\n",
      "\u001b[36mFile \u001b[39m\u001b[32m~/Documents/onclaive/onclaive/pipeline/llm_utils2.py:407\u001b[39m, in \u001b[36mLLMApiClient.make_one_llm_request\u001b[39m\u001b[34m(self, api_type, prompt, system_prompt, max_tokens)\u001b[39m\n\u001b[32m    405\u001b[39m \u001b[38;5;28;01mtry\u001b[39;00m:\n\u001b[32m    406\u001b[39m     \u001b[38;5;28;01mif\u001b[39;00m api_type == \u001b[33m\"\u001b[39m\u001b[33mclaude\u001b[39m\u001b[33m\"\u001b[39m:\n\u001b[32m--> \u001b[39m\u001b[32m407\u001b[39m         response = \u001b[43mclient\u001b[49m\u001b[43m.\u001b[49m\u001b[43mmessages\u001b[49m\u001b[43m.\u001b[49m\u001b[43mcreate\u001b[49m\u001b[43m(\u001b[49m\n\u001b[32m    408\u001b[39m \u001b[43m            \u001b[49m\u001b[43mmodel\u001b[49m\u001b[43m=\u001b[49m\u001b[43mconfig\u001b[49m\u001b[43m[\u001b[49m\u001b[33;43m\"\u001b[39;49m\u001b[33;43mmodel_name\u001b[39;49m\u001b[33;43m\"\u001b[39;49m\u001b[43m]\u001b[49m\u001b[43m,\u001b[49m\n\u001b[32m    409\u001b[39m \u001b[43m            \u001b[49m\u001b[43mmax_tokens\u001b[49m\u001b[43m=\u001b[49m\u001b[43mtokens_limit\u001b[49m\u001b[43m,\u001b[49m\n\u001b[32m    410\u001b[39m \u001b[43m            \u001b[49m\u001b[43mmessages\u001b[49m\u001b[43m=\u001b[49m\u001b[43m[\u001b[49m\u001b[43m{\u001b[49m\n\u001b[32m    411\u001b[39m \u001b[43m                \u001b[49m\u001b[33;43m\"\u001b[39;49m\u001b[33;43mrole\u001b[39;49m\u001b[33;43m\"\u001b[39;49m\u001b[43m:\u001b[49m\u001b[43m \u001b[49m\u001b[33;43m\"\u001b[39;49m\u001b[33;43muser\u001b[39;49m\u001b[33;43m\"\u001b[39;49m\u001b[43m,\u001b[49m\u001b[43m \u001b[49m\n\u001b[32m    412\u001b[39m \u001b[43m                \u001b[49m\u001b[33;43m\"\u001b[39;49m\u001b[33;43mcontent\u001b[39;49m\u001b[33;43m\"\u001b[39;49m\u001b[43m:\u001b[49m\u001b[43m \u001b[49m\u001b[43mprompt\u001b[49m\n\u001b[32m    413\u001b[39m \u001b[43m            \u001b[49m\u001b[43m}\u001b[49m\u001b[43m]\u001b[49m\u001b[43m,\u001b[49m\n\u001b[32m    414\u001b[39m \u001b[43m            \u001b[49m\u001b[43msystem\u001b[49m\u001b[43m=\u001b[49m\u001b[43msystem_prompt\u001b[49m\n\u001b[32m    415\u001b[39m \u001b[43m        \u001b[49m\u001b[43m)\u001b[49m\n\u001b[32m    416\u001b[39m         \u001b[38;5;28;01mreturn\u001b[39;00m response.content[\u001b[32m0\u001b[39m].text\n\u001b[32m    418\u001b[39m     \u001b[38;5;28;01melif\u001b[39;00m api_type == \u001b[33m\"\u001b[39m\u001b[33mgemini\u001b[39m\u001b[33m\"\u001b[39m:\n\u001b[32m    419\u001b[39m         \u001b[38;5;66;03m# Combine system prompt and user prompt for Gemini\u001b[39;00m\n",
      "\u001b[36mFile \u001b[39m\u001b[32m~/Documents/onclaive/onclaive/.venv/lib/python3.12/site-packages/anthropic/_utils/_utils.py:274\u001b[39m, in \u001b[36mrequired_args.<locals>.inner.<locals>.wrapper\u001b[39m\u001b[34m(*args, **kwargs)\u001b[39m\n\u001b[32m    272\u001b[39m             msg = \u001b[33mf\u001b[39m\u001b[33m\"\u001b[39m\u001b[33mMissing required argument: \u001b[39m\u001b[38;5;132;01m{\u001b[39;00mquote(missing[\u001b[32m0\u001b[39m])\u001b[38;5;132;01m}\u001b[39;00m\u001b[33m\"\u001b[39m\n\u001b[32m    273\u001b[39m     \u001b[38;5;28;01mraise\u001b[39;00m \u001b[38;5;167;01mTypeError\u001b[39;00m(msg)\n\u001b[32m--> \u001b[39m\u001b[32m274\u001b[39m \u001b[38;5;28;01mreturn\u001b[39;00m \u001b[43mfunc\u001b[49m\u001b[43m(\u001b[49m\u001b[43m*\u001b[49m\u001b[43margs\u001b[49m\u001b[43m,\u001b[49m\u001b[43m \u001b[49m\u001b[43m*\u001b[49m\u001b[43m*\u001b[49m\u001b[43mkwargs\u001b[49m\u001b[43m)\u001b[49m\n",
      "\u001b[36mFile \u001b[39m\u001b[32m~/Documents/onclaive/onclaive/.venv/lib/python3.12/site-packages/anthropic/resources/messages.py:888\u001b[39m, in \u001b[36mMessages.create\u001b[39m\u001b[34m(self, max_tokens, messages, model, metadata, stop_sequences, stream, system, temperature, tool_choice, tools, top_k, top_p, extra_headers, extra_query, extra_body, timeout)\u001b[39m\n\u001b[32m    881\u001b[39m \u001b[38;5;28;01mif\u001b[39;00m model \u001b[38;5;129;01min\u001b[39;00m DEPRECATED_MODELS:\n\u001b[32m    882\u001b[39m     warnings.warn(\n\u001b[32m    883\u001b[39m         \u001b[33mf\u001b[39m\u001b[33m\"\u001b[39m\u001b[33mThe model \u001b[39m\u001b[33m'\u001b[39m\u001b[38;5;132;01m{\u001b[39;00mmodel\u001b[38;5;132;01m}\u001b[39;00m\u001b[33m'\u001b[39m\u001b[33m is deprecated and will reach end-of-life on \u001b[39m\u001b[38;5;132;01m{\u001b[39;00mDEPRECATED_MODELS[model]\u001b[38;5;132;01m}\u001b[39;00m\u001b[33m.\u001b[39m\u001b[38;5;130;01m\\n\u001b[39;00m\u001b[33mPlease migrate to a newer model. Visit https://docs.anthropic.com/en/docs/resources/model-deprecations for more information.\u001b[39m\u001b[33m\"\u001b[39m,\n\u001b[32m    884\u001b[39m         \u001b[38;5;167;01mDeprecationWarning\u001b[39;00m,\n\u001b[32m    885\u001b[39m         stacklevel=\u001b[32m3\u001b[39m,\n\u001b[32m    886\u001b[39m     )\n\u001b[32m--> \u001b[39m\u001b[32m888\u001b[39m \u001b[38;5;28;01mreturn\u001b[39;00m \u001b[38;5;28;43mself\u001b[39;49m\u001b[43m.\u001b[49m\u001b[43m_post\u001b[49m\u001b[43m(\u001b[49m\n\u001b[32m    889\u001b[39m \u001b[43m    \u001b[49m\u001b[33;43m\"\u001b[39;49m\u001b[33;43m/v1/messages\u001b[39;49m\u001b[33;43m\"\u001b[39;49m\u001b[43m,\u001b[49m\n\u001b[32m    890\u001b[39m \u001b[43m    \u001b[49m\u001b[43mbody\u001b[49m\u001b[43m=\u001b[49m\u001b[43mmaybe_transform\u001b[49m\u001b[43m(\u001b[49m\n\u001b[32m    891\u001b[39m \u001b[43m        \u001b[49m\u001b[43m{\u001b[49m\n\u001b[32m    892\u001b[39m \u001b[43m            \u001b[49m\u001b[33;43m\"\u001b[39;49m\u001b[33;43mmax_tokens\u001b[39;49m\u001b[33;43m\"\u001b[39;49m\u001b[43m:\u001b[49m\u001b[43m \u001b[49m\u001b[43mmax_tokens\u001b[49m\u001b[43m,\u001b[49m\n\u001b[32m    893\u001b[39m \u001b[43m            \u001b[49m\u001b[33;43m\"\u001b[39;49m\u001b[33;43mmessages\u001b[39;49m\u001b[33;43m\"\u001b[39;49m\u001b[43m:\u001b[49m\u001b[43m \u001b[49m\u001b[43mmessages\u001b[49m\u001b[43m,\u001b[49m\n\u001b[32m    894\u001b[39m \u001b[43m            \u001b[49m\u001b[33;43m\"\u001b[39;49m\u001b[33;43mmodel\u001b[39;49m\u001b[33;43m\"\u001b[39;49m\u001b[43m:\u001b[49m\u001b[43m \u001b[49m\u001b[43mmodel\u001b[49m\u001b[43m,\u001b[49m\n\u001b[32m    895\u001b[39m \u001b[43m            \u001b[49m\u001b[33;43m\"\u001b[39;49m\u001b[33;43mmetadata\u001b[39;49m\u001b[33;43m\"\u001b[39;49m\u001b[43m:\u001b[49m\u001b[43m \u001b[49m\u001b[43mmetadata\u001b[49m\u001b[43m,\u001b[49m\n\u001b[32m    896\u001b[39m \u001b[43m            \u001b[49m\u001b[33;43m\"\u001b[39;49m\u001b[33;43mstop_sequences\u001b[39;49m\u001b[33;43m\"\u001b[39;49m\u001b[43m:\u001b[49m\u001b[43m \u001b[49m\u001b[43mstop_sequences\u001b[49m\u001b[43m,\u001b[49m\n\u001b[32m    897\u001b[39m \u001b[43m            \u001b[49m\u001b[33;43m\"\u001b[39;49m\u001b[33;43mstream\u001b[39;49m\u001b[33;43m\"\u001b[39;49m\u001b[43m:\u001b[49m\u001b[43m \u001b[49m\u001b[43mstream\u001b[49m\u001b[43m,\u001b[49m\n\u001b[32m    898\u001b[39m \u001b[43m            \u001b[49m\u001b[33;43m\"\u001b[39;49m\u001b[33;43msystem\u001b[39;49m\u001b[33;43m\"\u001b[39;49m\u001b[43m:\u001b[49m\u001b[43m \u001b[49m\u001b[43msystem\u001b[49m\u001b[43m,\u001b[49m\n\u001b[32m    899\u001b[39m \u001b[43m            \u001b[49m\u001b[33;43m\"\u001b[39;49m\u001b[33;43mtemperature\u001b[39;49m\u001b[33;43m\"\u001b[39;49m\u001b[43m:\u001b[49m\u001b[43m \u001b[49m\u001b[43mtemperature\u001b[49m\u001b[43m,\u001b[49m\n\u001b[32m    900\u001b[39m \u001b[43m            \u001b[49m\u001b[33;43m\"\u001b[39;49m\u001b[33;43mtool_choice\u001b[39;49m\u001b[33;43m\"\u001b[39;49m\u001b[43m:\u001b[49m\u001b[43m \u001b[49m\u001b[43mtool_choice\u001b[49m\u001b[43m,\u001b[49m\n\u001b[32m    901\u001b[39m \u001b[43m            \u001b[49m\u001b[33;43m\"\u001b[39;49m\u001b[33;43mtools\u001b[39;49m\u001b[33;43m\"\u001b[39;49m\u001b[43m:\u001b[49m\u001b[43m \u001b[49m\u001b[43mtools\u001b[49m\u001b[43m,\u001b[49m\n\u001b[32m    902\u001b[39m \u001b[43m            \u001b[49m\u001b[33;43m\"\u001b[39;49m\u001b[33;43mtop_k\u001b[39;49m\u001b[33;43m\"\u001b[39;49m\u001b[43m:\u001b[49m\u001b[43m \u001b[49m\u001b[43mtop_k\u001b[49m\u001b[43m,\u001b[49m\n\u001b[32m    903\u001b[39m \u001b[43m            \u001b[49m\u001b[33;43m\"\u001b[39;49m\u001b[33;43mtop_p\u001b[39;49m\u001b[33;43m\"\u001b[39;49m\u001b[43m:\u001b[49m\u001b[43m \u001b[49m\u001b[43mtop_p\u001b[49m\u001b[43m,\u001b[49m\n\u001b[32m    904\u001b[39m \u001b[43m        \u001b[49m\u001b[43m}\u001b[49m\u001b[43m,\u001b[49m\n\u001b[32m    905\u001b[39m \u001b[43m        \u001b[49m\u001b[43mmessage_create_params\u001b[49m\u001b[43m.\u001b[49m\u001b[43mMessageCreateParams\u001b[49m\u001b[43m,\u001b[49m\n\u001b[32m    906\u001b[39m \u001b[43m    \u001b[49m\u001b[43m)\u001b[49m\u001b[43m,\u001b[49m\n\u001b[32m    907\u001b[39m \u001b[43m    \u001b[49m\u001b[43moptions\u001b[49m\u001b[43m=\u001b[49m\u001b[43mmake_request_options\u001b[49m\u001b[43m(\u001b[49m\n\u001b[32m    908\u001b[39m \u001b[43m        \u001b[49m\u001b[43mextra_headers\u001b[49m\u001b[43m=\u001b[49m\u001b[43mextra_headers\u001b[49m\u001b[43m,\u001b[49m\u001b[43m \u001b[49m\u001b[43mextra_query\u001b[49m\u001b[43m=\u001b[49m\u001b[43mextra_query\u001b[49m\u001b[43m,\u001b[49m\u001b[43m \u001b[49m\u001b[43mextra_body\u001b[49m\u001b[43m=\u001b[49m\u001b[43mextra_body\u001b[49m\u001b[43m,\u001b[49m\u001b[43m \u001b[49m\u001b[43mtimeout\u001b[49m\u001b[43m=\u001b[49m\u001b[43mtimeout\u001b[49m\n\u001b[32m    909\u001b[39m \u001b[43m    \u001b[49m\u001b[43m)\u001b[49m\u001b[43m,\u001b[49m\n\u001b[32m    910\u001b[39m \u001b[43m    \u001b[49m\u001b[43mcast_to\u001b[49m\u001b[43m=\u001b[49m\u001b[43mMessage\u001b[49m\u001b[43m,\u001b[49m\n\u001b[32m    911\u001b[39m \u001b[43m    \u001b[49m\u001b[43mstream\u001b[49m\u001b[43m=\u001b[49m\u001b[43mstream\u001b[49m\u001b[43m \u001b[49m\u001b[38;5;129;43;01mor\u001b[39;49;00m\u001b[43m \u001b[49m\u001b[38;5;28;43;01mFalse\u001b[39;49;00m\u001b[43m,\u001b[49m\n\u001b[32m    912\u001b[39m \u001b[43m    \u001b[49m\u001b[43mstream_cls\u001b[49m\u001b[43m=\u001b[49m\u001b[43mStream\u001b[49m\u001b[43m[\u001b[49m\u001b[43mRawMessageStreamEvent\u001b[49m\u001b[43m]\u001b[49m\u001b[43m,\u001b[49m\n\u001b[32m    913\u001b[39m \u001b[43m\u001b[49m\u001b[43m)\u001b[49m\n",
      "\u001b[36mFile \u001b[39m\u001b[32m~/Documents/onclaive/onclaive/.venv/lib/python3.12/site-packages/anthropic/_base_client.py:1277\u001b[39m, in \u001b[36mSyncAPIClient.post\u001b[39m\u001b[34m(self, path, cast_to, body, options, files, stream, stream_cls)\u001b[39m\n\u001b[32m   1263\u001b[39m \u001b[38;5;28;01mdef\u001b[39;00m\u001b[38;5;250m \u001b[39m\u001b[34mpost\u001b[39m(\n\u001b[32m   1264\u001b[39m     \u001b[38;5;28mself\u001b[39m,\n\u001b[32m   1265\u001b[39m     path: \u001b[38;5;28mstr\u001b[39m,\n\u001b[32m   (...)\u001b[39m\u001b[32m   1272\u001b[39m     stream_cls: \u001b[38;5;28mtype\u001b[39m[_StreamT] | \u001b[38;5;28;01mNone\u001b[39;00m = \u001b[38;5;28;01mNone\u001b[39;00m,\n\u001b[32m   1273\u001b[39m ) -> ResponseT | _StreamT:\n\u001b[32m   1274\u001b[39m     opts = FinalRequestOptions.construct(\n\u001b[32m   1275\u001b[39m         method=\u001b[33m\"\u001b[39m\u001b[33mpost\u001b[39m\u001b[33m\"\u001b[39m, url=path, json_data=body, files=to_httpx_files(files), **options\n\u001b[32m   1276\u001b[39m     )\n\u001b[32m-> \u001b[39m\u001b[32m1277\u001b[39m     \u001b[38;5;28;01mreturn\u001b[39;00m cast(ResponseT, \u001b[38;5;28;43mself\u001b[39;49m\u001b[43m.\u001b[49m\u001b[43mrequest\u001b[49m\u001b[43m(\u001b[49m\u001b[43mcast_to\u001b[49m\u001b[43m,\u001b[49m\u001b[43m \u001b[49m\u001b[43mopts\u001b[49m\u001b[43m,\u001b[49m\u001b[43m \u001b[49m\u001b[43mstream\u001b[49m\u001b[43m=\u001b[49m\u001b[43mstream\u001b[49m\u001b[43m,\u001b[49m\u001b[43m \u001b[49m\u001b[43mstream_cls\u001b[49m\u001b[43m=\u001b[49m\u001b[43mstream_cls\u001b[49m\u001b[43m)\u001b[49m)\n",
      "\u001b[36mFile \u001b[39m\u001b[32m~/Documents/onclaive/onclaive/.venv/lib/python3.12/site-packages/anthropic/_base_client.py:954\u001b[39m, in \u001b[36mSyncAPIClient.request\u001b[39m\u001b[34m(self, cast_to, options, remaining_retries, stream, stream_cls)\u001b[39m\n\u001b[32m    951\u001b[39m \u001b[38;5;28;01melse\u001b[39;00m:\n\u001b[32m    952\u001b[39m     retries_taken = \u001b[32m0\u001b[39m\n\u001b[32m--> \u001b[39m\u001b[32m954\u001b[39m \u001b[38;5;28;01mreturn\u001b[39;00m \u001b[38;5;28;43mself\u001b[39;49m\u001b[43m.\u001b[49m\u001b[43m_request\u001b[49m\u001b[43m(\u001b[49m\n\u001b[32m    955\u001b[39m \u001b[43m    \u001b[49m\u001b[43mcast_to\u001b[49m\u001b[43m=\u001b[49m\u001b[43mcast_to\u001b[49m\u001b[43m,\u001b[49m\n\u001b[32m    956\u001b[39m \u001b[43m    \u001b[49m\u001b[43moptions\u001b[49m\u001b[43m=\u001b[49m\u001b[43moptions\u001b[49m\u001b[43m,\u001b[49m\n\u001b[32m    957\u001b[39m \u001b[43m    \u001b[49m\u001b[43mstream\u001b[49m\u001b[43m=\u001b[49m\u001b[43mstream\u001b[49m\u001b[43m,\u001b[49m\n\u001b[32m    958\u001b[39m \u001b[43m    \u001b[49m\u001b[43mstream_cls\u001b[49m\u001b[43m=\u001b[49m\u001b[43mstream_cls\u001b[49m\u001b[43m,\u001b[49m\n\u001b[32m    959\u001b[39m \u001b[43m    \u001b[49m\u001b[43mretries_taken\u001b[49m\u001b[43m=\u001b[49m\u001b[43mretries_taken\u001b[49m\u001b[43m,\u001b[49m\n\u001b[32m    960\u001b[39m \u001b[43m\u001b[49m\u001b[43m)\u001b[49m\n",
      "\u001b[36mFile \u001b[39m\u001b[32m~/Documents/onclaive/onclaive/.venv/lib/python3.12/site-packages/anthropic/_base_client.py:990\u001b[39m, in \u001b[36mSyncAPIClient._request\u001b[39m\u001b[34m(self, cast_to, options, retries_taken, stream, stream_cls)\u001b[39m\n\u001b[32m    987\u001b[39m log.debug(\u001b[33m\"\u001b[39m\u001b[33mSending HTTP Request: \u001b[39m\u001b[38;5;132;01m%s\u001b[39;00m\u001b[33m \u001b[39m\u001b[38;5;132;01m%s\u001b[39;00m\u001b[33m\"\u001b[39m, request.method, request.url)\n\u001b[32m    989\u001b[39m \u001b[38;5;28;01mtry\u001b[39;00m:\n\u001b[32m--> \u001b[39m\u001b[32m990\u001b[39m     response = \u001b[38;5;28;43mself\u001b[39;49m\u001b[43m.\u001b[49m\u001b[43m_client\u001b[49m\u001b[43m.\u001b[49m\u001b[43msend\u001b[49m\u001b[43m(\u001b[49m\n\u001b[32m    991\u001b[39m \u001b[43m        \u001b[49m\u001b[43mrequest\u001b[49m\u001b[43m,\u001b[49m\n\u001b[32m    992\u001b[39m \u001b[43m        \u001b[49m\u001b[43mstream\u001b[49m\u001b[43m=\u001b[49m\u001b[43mstream\u001b[49m\u001b[43m \u001b[49m\u001b[38;5;129;43;01mor\u001b[39;49;00m\u001b[43m \u001b[49m\u001b[38;5;28;43mself\u001b[39;49m\u001b[43m.\u001b[49m\u001b[43m_should_stream_response_body\u001b[49m\u001b[43m(\u001b[49m\u001b[43mrequest\u001b[49m\u001b[43m=\u001b[49m\u001b[43mrequest\u001b[49m\u001b[43m)\u001b[49m\u001b[43m,\u001b[49m\n\u001b[32m    993\u001b[39m \u001b[43m        \u001b[49m\u001b[43m*\u001b[49m\u001b[43m*\u001b[49m\u001b[43mkwargs\u001b[49m\u001b[43m,\u001b[49m\n\u001b[32m    994\u001b[39m \u001b[43m    \u001b[49m\u001b[43m)\u001b[49m\n\u001b[32m    995\u001b[39m \u001b[38;5;28;01mexcept\u001b[39;00m httpx.TimeoutException \u001b[38;5;28;01mas\u001b[39;00m err:\n\u001b[32m    996\u001b[39m     log.debug(\u001b[33m\"\u001b[39m\u001b[33mEncountered httpx.TimeoutException\u001b[39m\u001b[33m\"\u001b[39m, exc_info=\u001b[38;5;28;01mTrue\u001b[39;00m)\n",
      "\u001b[36mFile \u001b[39m\u001b[32m~/Documents/onclaive/onclaive/.venv/lib/python3.12/site-packages/httpx/_client.py:926\u001b[39m, in \u001b[36mClient.send\u001b[39m\u001b[34m(self, request, stream, auth, follow_redirects)\u001b[39m\n\u001b[32m    922\u001b[39m \u001b[38;5;28mself\u001b[39m._set_timeout(request)\n\u001b[32m    924\u001b[39m auth = \u001b[38;5;28mself\u001b[39m._build_request_auth(request, auth)\n\u001b[32m--> \u001b[39m\u001b[32m926\u001b[39m response = \u001b[38;5;28;43mself\u001b[39;49m\u001b[43m.\u001b[49m\u001b[43m_send_handling_auth\u001b[49m\u001b[43m(\u001b[49m\n\u001b[32m    927\u001b[39m \u001b[43m    \u001b[49m\u001b[43mrequest\u001b[49m\u001b[43m,\u001b[49m\n\u001b[32m    928\u001b[39m \u001b[43m    \u001b[49m\u001b[43mauth\u001b[49m\u001b[43m=\u001b[49m\u001b[43mauth\u001b[49m\u001b[43m,\u001b[49m\n\u001b[32m    929\u001b[39m \u001b[43m    \u001b[49m\u001b[43mfollow_redirects\u001b[49m\u001b[43m=\u001b[49m\u001b[43mfollow_redirects\u001b[49m\u001b[43m,\u001b[49m\n\u001b[32m    930\u001b[39m \u001b[43m    \u001b[49m\u001b[43mhistory\u001b[49m\u001b[43m=\u001b[49m\u001b[43m[\u001b[49m\u001b[43m]\u001b[49m\u001b[43m,\u001b[49m\n\u001b[32m    931\u001b[39m \u001b[43m\u001b[49m\u001b[43m)\u001b[49m\n\u001b[32m    932\u001b[39m \u001b[38;5;28;01mtry\u001b[39;00m:\n\u001b[32m    933\u001b[39m     \u001b[38;5;28;01mif\u001b[39;00m \u001b[38;5;129;01mnot\u001b[39;00m stream:\n",
      "\u001b[36mFile \u001b[39m\u001b[32m~/Documents/onclaive/onclaive/.venv/lib/python3.12/site-packages/httpx/_client.py:954\u001b[39m, in \u001b[36mClient._send_handling_auth\u001b[39m\u001b[34m(self, request, auth, follow_redirects, history)\u001b[39m\n\u001b[32m    951\u001b[39m request = \u001b[38;5;28mnext\u001b[39m(auth_flow)\n\u001b[32m    953\u001b[39m \u001b[38;5;28;01mwhile\u001b[39;00m \u001b[38;5;28;01mTrue\u001b[39;00m:\n\u001b[32m--> \u001b[39m\u001b[32m954\u001b[39m     response = \u001b[38;5;28;43mself\u001b[39;49m\u001b[43m.\u001b[49m\u001b[43m_send_handling_redirects\u001b[49m\u001b[43m(\u001b[49m\n\u001b[32m    955\u001b[39m \u001b[43m        \u001b[49m\u001b[43mrequest\u001b[49m\u001b[43m,\u001b[49m\n\u001b[32m    956\u001b[39m \u001b[43m        \u001b[49m\u001b[43mfollow_redirects\u001b[49m\u001b[43m=\u001b[49m\u001b[43mfollow_redirects\u001b[49m\u001b[43m,\u001b[49m\n\u001b[32m    957\u001b[39m \u001b[43m        \u001b[49m\u001b[43mhistory\u001b[49m\u001b[43m=\u001b[49m\u001b[43mhistory\u001b[49m\u001b[43m,\u001b[49m\n\u001b[32m    958\u001b[39m \u001b[43m    \u001b[49m\u001b[43m)\u001b[49m\n\u001b[32m    959\u001b[39m     \u001b[38;5;28;01mtry\u001b[39;00m:\n\u001b[32m    960\u001b[39m         \u001b[38;5;28;01mtry\u001b[39;00m:\n",
      "\u001b[36mFile \u001b[39m\u001b[32m~/Documents/onclaive/onclaive/.venv/lib/python3.12/site-packages/httpx/_client.py:991\u001b[39m, in \u001b[36mClient._send_handling_redirects\u001b[39m\u001b[34m(self, request, follow_redirects, history)\u001b[39m\n\u001b[32m    988\u001b[39m \u001b[38;5;28;01mfor\u001b[39;00m hook \u001b[38;5;129;01min\u001b[39;00m \u001b[38;5;28mself\u001b[39m._event_hooks[\u001b[33m\"\u001b[39m\u001b[33mrequest\u001b[39m\u001b[33m\"\u001b[39m]:\n\u001b[32m    989\u001b[39m     hook(request)\n\u001b[32m--> \u001b[39m\u001b[32m991\u001b[39m response = \u001b[38;5;28;43mself\u001b[39;49m\u001b[43m.\u001b[49m\u001b[43m_send_single_request\u001b[49m\u001b[43m(\u001b[49m\u001b[43mrequest\u001b[49m\u001b[43m)\u001b[49m\n\u001b[32m    992\u001b[39m \u001b[38;5;28;01mtry\u001b[39;00m:\n\u001b[32m    993\u001b[39m     \u001b[38;5;28;01mfor\u001b[39;00m hook \u001b[38;5;129;01min\u001b[39;00m \u001b[38;5;28mself\u001b[39m._event_hooks[\u001b[33m\"\u001b[39m\u001b[33mresponse\u001b[39m\u001b[33m\"\u001b[39m]:\n",
      "\u001b[36mFile \u001b[39m\u001b[32m~/Documents/onclaive/onclaive/.venv/lib/python3.12/site-packages/httpx/_client.py:1027\u001b[39m, in \u001b[36mClient._send_single_request\u001b[39m\u001b[34m(self, request)\u001b[39m\n\u001b[32m   1022\u001b[39m     \u001b[38;5;28;01mraise\u001b[39;00m \u001b[38;5;167;01mRuntimeError\u001b[39;00m(\n\u001b[32m   1023\u001b[39m         \u001b[33m\"\u001b[39m\u001b[33mAttempted to send an async request with a sync Client instance.\u001b[39m\u001b[33m\"\u001b[39m\n\u001b[32m   1024\u001b[39m     )\n\u001b[32m   1026\u001b[39m \u001b[38;5;28;01mwith\u001b[39;00m request_context(request=request):\n\u001b[32m-> \u001b[39m\u001b[32m1027\u001b[39m     response = \u001b[43mtransport\u001b[49m\u001b[43m.\u001b[49m\u001b[43mhandle_request\u001b[49m\u001b[43m(\u001b[49m\u001b[43mrequest\u001b[49m\u001b[43m)\u001b[49m\n\u001b[32m   1029\u001b[39m \u001b[38;5;28;01massert\u001b[39;00m \u001b[38;5;28misinstance\u001b[39m(response.stream, SyncByteStream)\n\u001b[32m   1031\u001b[39m response.request = request\n",
      "\u001b[36mFile \u001b[39m\u001b[32m~/Documents/onclaive/onclaive/.venv/lib/python3.12/site-packages/httpx/_transports/default.py:236\u001b[39m, in \u001b[36mHTTPTransport.handle_request\u001b[39m\u001b[34m(self, request)\u001b[39m\n\u001b[32m    223\u001b[39m req = httpcore.Request(\n\u001b[32m    224\u001b[39m     method=request.method,\n\u001b[32m    225\u001b[39m     url=httpcore.URL(\n\u001b[32m   (...)\u001b[39m\u001b[32m    233\u001b[39m     extensions=request.extensions,\n\u001b[32m    234\u001b[39m )\n\u001b[32m    235\u001b[39m \u001b[38;5;28;01mwith\u001b[39;00m map_httpcore_exceptions():\n\u001b[32m--> \u001b[39m\u001b[32m236\u001b[39m     resp = \u001b[38;5;28;43mself\u001b[39;49m\u001b[43m.\u001b[49m\u001b[43m_pool\u001b[49m\u001b[43m.\u001b[49m\u001b[43mhandle_request\u001b[49m\u001b[43m(\u001b[49m\u001b[43mreq\u001b[49m\u001b[43m)\u001b[49m\n\u001b[32m    238\u001b[39m \u001b[38;5;28;01massert\u001b[39;00m \u001b[38;5;28misinstance\u001b[39m(resp.stream, typing.Iterable)\n\u001b[32m    240\u001b[39m \u001b[38;5;28;01mreturn\u001b[39;00m Response(\n\u001b[32m    241\u001b[39m     status_code=resp.status,\n\u001b[32m    242\u001b[39m     headers=resp.headers,\n\u001b[32m    243\u001b[39m     stream=ResponseStream(resp.stream),\n\u001b[32m    244\u001b[39m     extensions=resp.extensions,\n\u001b[32m    245\u001b[39m )\n",
      "\u001b[36mFile \u001b[39m\u001b[32m~/Documents/onclaive/onclaive/.venv/lib/python3.12/site-packages/httpcore/_sync/connection_pool.py:256\u001b[39m, in \u001b[36mConnectionPool.handle_request\u001b[39m\u001b[34m(self, request)\u001b[39m\n\u001b[32m    253\u001b[39m         closing = \u001b[38;5;28mself\u001b[39m._assign_requests_to_connections()\n\u001b[32m    255\u001b[39m     \u001b[38;5;28mself\u001b[39m._close_connections(closing)\n\u001b[32m--> \u001b[39m\u001b[32m256\u001b[39m     \u001b[38;5;28;01mraise\u001b[39;00m exc \u001b[38;5;28;01mfrom\u001b[39;00m\u001b[38;5;250m \u001b[39m\u001b[38;5;28;01mNone\u001b[39;00m\n\u001b[32m    258\u001b[39m \u001b[38;5;66;03m# Return the response. Note that in this case we still have to manage\u001b[39;00m\n\u001b[32m    259\u001b[39m \u001b[38;5;66;03m# the point at which the response is closed.\u001b[39;00m\n\u001b[32m    260\u001b[39m \u001b[38;5;28;01massert\u001b[39;00m \u001b[38;5;28misinstance\u001b[39m(response.stream, typing.Iterable)\n",
      "\u001b[36mFile \u001b[39m\u001b[32m~/Documents/onclaive/onclaive/.venv/lib/python3.12/site-packages/httpcore/_sync/connection_pool.py:236\u001b[39m, in \u001b[36mConnectionPool.handle_request\u001b[39m\u001b[34m(self, request)\u001b[39m\n\u001b[32m    232\u001b[39m connection = pool_request.wait_for_connection(timeout=timeout)\n\u001b[32m    234\u001b[39m \u001b[38;5;28;01mtry\u001b[39;00m:\n\u001b[32m    235\u001b[39m     \u001b[38;5;66;03m# Send the request on the assigned connection.\u001b[39;00m\n\u001b[32m--> \u001b[39m\u001b[32m236\u001b[39m     response = \u001b[43mconnection\u001b[49m\u001b[43m.\u001b[49m\u001b[43mhandle_request\u001b[49m\u001b[43m(\u001b[49m\n\u001b[32m    237\u001b[39m \u001b[43m        \u001b[49m\u001b[43mpool_request\u001b[49m\u001b[43m.\u001b[49m\u001b[43mrequest\u001b[49m\n\u001b[32m    238\u001b[39m \u001b[43m    \u001b[49m\u001b[43m)\u001b[49m\n\u001b[32m    239\u001b[39m \u001b[38;5;28;01mexcept\u001b[39;00m ConnectionNotAvailable:\n\u001b[32m    240\u001b[39m     \u001b[38;5;66;03m# In some cases a connection may initially be available to\u001b[39;00m\n\u001b[32m    241\u001b[39m     \u001b[38;5;66;03m# handle a request, but then become unavailable.\u001b[39;00m\n\u001b[32m    242\u001b[39m     \u001b[38;5;66;03m#\u001b[39;00m\n\u001b[32m    243\u001b[39m     \u001b[38;5;66;03m# In this case we clear the connection and try again.\u001b[39;00m\n\u001b[32m    244\u001b[39m     pool_request.clear_connection()\n",
      "\u001b[36mFile \u001b[39m\u001b[32m~/Documents/onclaive/onclaive/.venv/lib/python3.12/site-packages/httpcore/_sync/connection.py:103\u001b[39m, in \u001b[36mHTTPConnection.handle_request\u001b[39m\u001b[34m(self, request)\u001b[39m\n\u001b[32m    100\u001b[39m     \u001b[38;5;28mself\u001b[39m._connect_failed = \u001b[38;5;28;01mTrue\u001b[39;00m\n\u001b[32m    101\u001b[39m     \u001b[38;5;28;01mraise\u001b[39;00m exc\n\u001b[32m--> \u001b[39m\u001b[32m103\u001b[39m \u001b[38;5;28;01mreturn\u001b[39;00m \u001b[38;5;28;43mself\u001b[39;49m\u001b[43m.\u001b[49m\u001b[43m_connection\u001b[49m\u001b[43m.\u001b[49m\u001b[43mhandle_request\u001b[49m\u001b[43m(\u001b[49m\u001b[43mrequest\u001b[49m\u001b[43m)\u001b[49m\n",
      "\u001b[36mFile \u001b[39m\u001b[32m~/Documents/onclaive/onclaive/.venv/lib/python3.12/site-packages/httpcore/_sync/http11.py:136\u001b[39m, in \u001b[36mHTTP11Connection.handle_request\u001b[39m\u001b[34m(self, request)\u001b[39m\n\u001b[32m    134\u001b[39m     \u001b[38;5;28;01mwith\u001b[39;00m Trace(\u001b[33m\"\u001b[39m\u001b[33mresponse_closed\u001b[39m\u001b[33m\"\u001b[39m, logger, request) \u001b[38;5;28;01mas\u001b[39;00m trace:\n\u001b[32m    135\u001b[39m         \u001b[38;5;28mself\u001b[39m._response_closed()\n\u001b[32m--> \u001b[39m\u001b[32m136\u001b[39m \u001b[38;5;28;01mraise\u001b[39;00m exc\n",
      "\u001b[36mFile \u001b[39m\u001b[32m~/Documents/onclaive/onclaive/.venv/lib/python3.12/site-packages/httpcore/_sync/http11.py:106\u001b[39m, in \u001b[36mHTTP11Connection.handle_request\u001b[39m\u001b[34m(self, request)\u001b[39m\n\u001b[32m     95\u001b[39m     \u001b[38;5;28;01mpass\u001b[39;00m\n\u001b[32m     97\u001b[39m \u001b[38;5;28;01mwith\u001b[39;00m Trace(\n\u001b[32m     98\u001b[39m     \u001b[33m\"\u001b[39m\u001b[33mreceive_response_headers\u001b[39m\u001b[33m\"\u001b[39m, logger, request, kwargs\n\u001b[32m     99\u001b[39m ) \u001b[38;5;28;01mas\u001b[39;00m trace:\n\u001b[32m    100\u001b[39m     (\n\u001b[32m    101\u001b[39m         http_version,\n\u001b[32m    102\u001b[39m         status,\n\u001b[32m    103\u001b[39m         reason_phrase,\n\u001b[32m    104\u001b[39m         headers,\n\u001b[32m    105\u001b[39m         trailing_data,\n\u001b[32m--> \u001b[39m\u001b[32m106\u001b[39m     ) = \u001b[38;5;28;43mself\u001b[39;49m\u001b[43m.\u001b[49m\u001b[43m_receive_response_headers\u001b[49m\u001b[43m(\u001b[49m\u001b[43m*\u001b[49m\u001b[43m*\u001b[49m\u001b[43mkwargs\u001b[49m\u001b[43m)\u001b[49m\n\u001b[32m    107\u001b[39m     trace.return_value = (\n\u001b[32m    108\u001b[39m         http_version,\n\u001b[32m    109\u001b[39m         status,\n\u001b[32m    110\u001b[39m         reason_phrase,\n\u001b[32m    111\u001b[39m         headers,\n\u001b[32m    112\u001b[39m     )\n\u001b[32m    114\u001b[39m network_stream = \u001b[38;5;28mself\u001b[39m._network_stream\n",
      "\u001b[36mFile \u001b[39m\u001b[32m~/Documents/onclaive/onclaive/.venv/lib/python3.12/site-packages/httpcore/_sync/http11.py:177\u001b[39m, in \u001b[36mHTTP11Connection._receive_response_headers\u001b[39m\u001b[34m(self, request)\u001b[39m\n\u001b[32m    174\u001b[39m timeout = timeouts.get(\u001b[33m\"\u001b[39m\u001b[33mread\u001b[39m\u001b[33m\"\u001b[39m, \u001b[38;5;28;01mNone\u001b[39;00m)\n\u001b[32m    176\u001b[39m \u001b[38;5;28;01mwhile\u001b[39;00m \u001b[38;5;28;01mTrue\u001b[39;00m:\n\u001b[32m--> \u001b[39m\u001b[32m177\u001b[39m     event = \u001b[38;5;28;43mself\u001b[39;49m\u001b[43m.\u001b[49m\u001b[43m_receive_event\u001b[49m\u001b[43m(\u001b[49m\u001b[43mtimeout\u001b[49m\u001b[43m=\u001b[49m\u001b[43mtimeout\u001b[49m\u001b[43m)\u001b[49m\n\u001b[32m    178\u001b[39m     \u001b[38;5;28;01mif\u001b[39;00m \u001b[38;5;28misinstance\u001b[39m(event, h11.Response):\n\u001b[32m    179\u001b[39m         \u001b[38;5;28;01mbreak\u001b[39;00m\n",
      "\u001b[36mFile \u001b[39m\u001b[32m~/Documents/onclaive/onclaive/.venv/lib/python3.12/site-packages/httpcore/_sync/http11.py:217\u001b[39m, in \u001b[36mHTTP11Connection._receive_event\u001b[39m\u001b[34m(self, timeout)\u001b[39m\n\u001b[32m    214\u001b[39m     event = \u001b[38;5;28mself\u001b[39m._h11_state.next_event()\n\u001b[32m    216\u001b[39m \u001b[38;5;28;01mif\u001b[39;00m event \u001b[38;5;129;01mis\u001b[39;00m h11.NEED_DATA:\n\u001b[32m--> \u001b[39m\u001b[32m217\u001b[39m     data = \u001b[38;5;28;43mself\u001b[39;49m\u001b[43m.\u001b[49m\u001b[43m_network_stream\u001b[49m\u001b[43m.\u001b[49m\u001b[43mread\u001b[49m\u001b[43m(\u001b[49m\n\u001b[32m    218\u001b[39m \u001b[43m        \u001b[49m\u001b[38;5;28;43mself\u001b[39;49m\u001b[43m.\u001b[49m\u001b[43mREAD_NUM_BYTES\u001b[49m\u001b[43m,\u001b[49m\u001b[43m \u001b[49m\u001b[43mtimeout\u001b[49m\u001b[43m=\u001b[49m\u001b[43mtimeout\u001b[49m\n\u001b[32m    219\u001b[39m \u001b[43m    \u001b[49m\u001b[43m)\u001b[49m\n\u001b[32m    221\u001b[39m     \u001b[38;5;66;03m# If we feed this case through h11 we'll raise an exception like:\u001b[39;00m\n\u001b[32m    222\u001b[39m     \u001b[38;5;66;03m#\u001b[39;00m\n\u001b[32m    223\u001b[39m     \u001b[38;5;66;03m#     httpcore.RemoteProtocolError: can't handle event type\u001b[39;00m\n\u001b[32m   (...)\u001b[39m\u001b[32m    227\u001b[39m     \u001b[38;5;66;03m# perspective. Instead we handle this case distinctly and treat\u001b[39;00m\n\u001b[32m    228\u001b[39m     \u001b[38;5;66;03m# it as a ConnectError.\u001b[39;00m\n\u001b[32m    229\u001b[39m     \u001b[38;5;28;01mif\u001b[39;00m data == \u001b[33mb\u001b[39m\u001b[33m\"\u001b[39m\u001b[33m\"\u001b[39m \u001b[38;5;129;01mand\u001b[39;00m \u001b[38;5;28mself\u001b[39m._h11_state.their_state == h11.SEND_RESPONSE:\n",
      "\u001b[36mFile \u001b[39m\u001b[32m~/Documents/onclaive/onclaive/.venv/lib/python3.12/site-packages/httpcore/_backends/sync.py:128\u001b[39m, in \u001b[36mSyncStream.read\u001b[39m\u001b[34m(self, max_bytes, timeout)\u001b[39m\n\u001b[32m    126\u001b[39m \u001b[38;5;28;01mwith\u001b[39;00m map_exceptions(exc_map):\n\u001b[32m    127\u001b[39m     \u001b[38;5;28mself\u001b[39m._sock.settimeout(timeout)\n\u001b[32m--> \u001b[39m\u001b[32m128\u001b[39m     \u001b[38;5;28;01mreturn\u001b[39;00m \u001b[38;5;28;43mself\u001b[39;49m\u001b[43m.\u001b[49m\u001b[43m_sock\u001b[49m\u001b[43m.\u001b[49m\u001b[43mrecv\u001b[49m\u001b[43m(\u001b[49m\u001b[43mmax_bytes\u001b[49m\u001b[43m)\u001b[49m\n",
      "\u001b[36mFile \u001b[39m\u001b[32m/opt/homebrew/Cellar/python@3.12/3.12.6/Frameworks/Python.framework/Versions/3.12/lib/python3.12/ssl.py:1232\u001b[39m, in \u001b[36mSSLSocket.recv\u001b[39m\u001b[34m(self, buflen, flags)\u001b[39m\n\u001b[32m   1228\u001b[39m     \u001b[38;5;28;01mif\u001b[39;00m flags != \u001b[32m0\u001b[39m:\n\u001b[32m   1229\u001b[39m         \u001b[38;5;28;01mraise\u001b[39;00m \u001b[38;5;167;01mValueError\u001b[39;00m(\n\u001b[32m   1230\u001b[39m             \u001b[33m\"\u001b[39m\u001b[33mnon-zero flags not allowed in calls to recv() on \u001b[39m\u001b[38;5;132;01m%s\u001b[39;00m\u001b[33m\"\u001b[39m %\n\u001b[32m   1231\u001b[39m             \u001b[38;5;28mself\u001b[39m.\u001b[34m__class__\u001b[39m)\n\u001b[32m-> \u001b[39m\u001b[32m1232\u001b[39m     \u001b[38;5;28;01mreturn\u001b[39;00m \u001b[38;5;28;43mself\u001b[39;49m\u001b[43m.\u001b[49m\u001b[43mread\u001b[49m\u001b[43m(\u001b[49m\u001b[43mbuflen\u001b[49m\u001b[43m)\u001b[49m\n\u001b[32m   1233\u001b[39m \u001b[38;5;28;01melse\u001b[39;00m:\n\u001b[32m   1234\u001b[39m     \u001b[38;5;28;01mreturn\u001b[39;00m \u001b[38;5;28msuper\u001b[39m().recv(buflen, flags)\n",
      "\u001b[36mFile \u001b[39m\u001b[32m/opt/homebrew/Cellar/python@3.12/3.12.6/Frameworks/Python.framework/Versions/3.12/lib/python3.12/ssl.py:1105\u001b[39m, in \u001b[36mSSLSocket.read\u001b[39m\u001b[34m(self, len, buffer)\u001b[39m\n\u001b[32m   1103\u001b[39m         \u001b[38;5;28;01mreturn\u001b[39;00m \u001b[38;5;28mself\u001b[39m._sslobj.read(\u001b[38;5;28mlen\u001b[39m, buffer)\n\u001b[32m   1104\u001b[39m     \u001b[38;5;28;01melse\u001b[39;00m:\n\u001b[32m-> \u001b[39m\u001b[32m1105\u001b[39m         \u001b[38;5;28;01mreturn\u001b[39;00m \u001b[38;5;28;43mself\u001b[39;49m\u001b[43m.\u001b[49m\u001b[43m_sslobj\u001b[49m\u001b[43m.\u001b[49m\u001b[43mread\u001b[49m\u001b[43m(\u001b[49m\u001b[38;5;28;43mlen\u001b[39;49m\u001b[43m)\u001b[49m\n\u001b[32m   1106\u001b[39m \u001b[38;5;28;01mexcept\u001b[39;00m SSLError \u001b[38;5;28;01mas\u001b[39;00m x:\n\u001b[32m   1107\u001b[39m     \u001b[38;5;28;01mif\u001b[39;00m x.args[\u001b[32m0\u001b[39m] == SSL_ERROR_EOF \u001b[38;5;129;01mand\u001b[39;00m \u001b[38;5;28mself\u001b[39m.suppress_ragged_eofs:\n",
      "\u001b[31mKeyboardInterrupt\u001b[39m: "
     ]
    }
   ],
   "source": [
    "reqs_extraction_03.run_requirements_extractor(\n",
    "    markdown_dir='checkpoints/demo/condition_profile', #input directory of markdown files\n",
    "    output_dir='checkpoints/demo/requirements_extraction/', #output directory\n",
    "    api_type= 'claude', #set API type\n",
    "    client_instance=llm_clients) #initialize llm clients"
   ]
  },
  {
   "cell_type": "markdown",
   "id": "47056998",
   "metadata": {},
   "source": [
    "### 2b) Requirements Refinement\n",
    "LLM-Based Requirements Review & Consolidation\n",
    "- Filters and identifies only testable requirements from raw extractions\n",
    "- Consolidates duplicate requirements and merges related ones\n",
    "- Applies consistent formatting and structure\n",
    "- Removes non-testable assertions and narrative content\n",
    "\n",
    "Inputs: Raw requirements from extraction stage in markdown format\n",
    "\n",
    "Outputs: Refined requirements list in markdown format"
   ]
  },
  {
   "cell_type": "code",
   "execution_count": 8,
   "id": "547fa2a7",
   "metadata": {},
   "outputs": [
    {
     "data": {
      "text/plain": [
       "<module 'reqs_reviewer_04' from '/Users/ceadams/Documents/onclaive/onclaive/pipeline/reqs_reviewer_04.py'>"
      ]
     },
     "execution_count": 8,
     "metadata": {},
     "output_type": "execute_result"
    }
   ],
   "source": [
    "# import requirements refinement script as module\n",
    "import reqs_reviewer_04\n",
    "importlib.reload(reqs_reviewer_04)"
   ]
  },
  {
   "cell_type": "code",
   "execution_count": 9,
   "id": "53363a50",
   "metadata": {},
   "outputs": [
    {
     "name": "stdout",
     "output_type": "stream",
     "text": [
      "STARTING BATCH PROCESSING\n",
      "==================================================\n",
      "Input: checkpoints/demo/requirements_extraction/reqs_list_v1.md\n",
      "Output: checkpoints/demo/requirements_revision/\n",
      "Batch size: 25 requirements\n",
      "API: claude\n",
      "\n",
      "File size: 12,817 characters\n",
      "Splitting requirements...\n",
      "Found 30 total requirements\n",
      "Will process in 2 batches\n",
      "\n",
      "BATCH 1/2\n",
      "   Requirements: 25 (#1-#25)\n",
      "   Size: 10,648 chars (~2,662 tokens)\n"
     ]
    },
    {
     "name": "stderr",
     "output_type": "stream",
     "text": [
      "ERROR:root:Error in claude API request: Error code: 500 - {'type': 'error', 'error': {'type': 'api_error', 'message': 'Internal server error'}, 'request_id': None}\n"
     ]
    },
    {
     "name": "stdout",
     "output_type": "stream",
     "text": [
      "   Completed in 208.8s\n",
      "   Pausing 2s...\n",
      "   Progress: 1/2 (50.0%)\n",
      "   ETA: 3.5 minutes remaining\n",
      "\n",
      "BATCH 2/2\n",
      "   Requirements: 5 (#26-#30)\n",
      "   Size: 2,167 chars (~541 tokens)\n",
      "   Completed in 7.0s\n",
      "   Progress: 2/2 (100.0%)\n",
      "   ETA: 0.0 minutes remaining\n",
      "\n",
      "COMBINING RESULTS\n",
      "--------------------\n",
      "Merging batch results and renumbering...\n",
      "   Processing batch 1 results...\n",
      "   Processing batch 2 results...\n",
      "   Renumbered 30 requirements\n",
      "BATCH PROCESSING COMPLETE!\n",
      "========================================\n",
      "Output saved: checkpoints/demo/requirements_revision/claude_refined_requirements_20250901_212912.md\n",
      "Original requirements: 30\n",
      "Final requirements: 30\n",
      "Successful batches: 2/2\n",
      "Failed batches: 0/2\n",
      "Total time: 3.6 minutes\n",
      "Average per batch: 108.9 seconds\n"
     ]
    }
   ],
   "source": [
    "result = reqs_reviewer_04.run_batch_requirements_refinement(\n",
    "    input_file=\"checkpoints/demo/requirements_extraction/reqs_list_v1.md\", #input requirements list markdown file\n",
    "    output_dir=\"checkpoints/demo/requirements_revision/\", #output directory   \n",
    "    client_instance=llm_clients,  #initialize llm clients\n",
    "    batch_size=25,  #set batch size\n",
    "    api_type=\"claude\"  #set API type\n",
    ")"
   ]
  },
  {
   "cell_type": "markdown",
   "id": "0b2ccc40",
   "metadata": {},
   "source": [
    "### 2c) Requirements Downselection\n",
    "- Combines multiple requirements lists from different extraction runs\n",
    "- Uses semantic similarity analysis to identify and remove duplicates\n",
    "- Creates a deduplicated final requirements set\n",
    "\n",
    "Inputs: Multiple refined requirements files in markdown or JSON format\n",
    "Outputs: Final consolidated requirements in markdown or JSON format"
   ]
  },
  {
   "cell_type": "code",
   "execution_count": 10,
   "id": "312c3c0e",
   "metadata": {},
   "outputs": [
    {
     "data": {
      "text/plain": [
       "<module 'reqs_downselect_05' from '/Users/ceadams/Documents/onclaive/onclaive/pipeline/reqs_downselect_05.py'>"
      ]
     },
     "execution_count": 10,
     "metadata": {},
     "output_type": "execute_result"
    }
   ],
   "source": [
    "import reqs_downselect_05\n",
    "importlib.reload(reqs_downselect_05)"
   ]
  },
  {
   "cell_type": "code",
   "execution_count": 11,
   "id": "7a4bb6d0",
   "metadata": {},
   "outputs": [
    {
     "name": "stdout",
     "output_type": "stream",
     "text": [
      "Found 4 files matching '*.md' in checkpoints/demo/requirements_revision/\n",
      "============================================================\n",
      "REQUIREMENT DEDUPLICATION PIPELINE\n",
      "============================================================\n",
      "Markdown files: 4\n",
      "RAG files: 0\n",
      "Similarity threshold: 0.98\n",
      "Output format: markdown\n",
      "\n",
      "Loading requirements from files...\n",
      "  Processing: checkpoints/demo/requirements_revision/10claude_refined_requirements_20250829_102851.md\n",
      "    Loaded 10 requirements\n",
      "  Processing: checkpoints/demo/requirements_revision/claude_refined_requirements_20250829_102328.md\n",
      "    Loaded 35 requirements\n",
      "  Processing: checkpoints/demo/requirements_revision/claude_refined_requirements_20250829_102851.md\n",
      "    Loaded 45 requirements\n",
      "  Processing: checkpoints/demo/requirements_revision/claude_refined_requirements_20250901_212912.md\n",
      "    Loaded 30 requirements\n",
      "\n",
      "Total requirements loaded: 120\n",
      "Loading sentence transformer model...\n",
      "Generating embeddings for 120 requirements...\n",
      "  Completed embeddings for 120 requirements\n",
      "Calculating similarity scores...\n",
      "  Completed 14400 similarity calculations\n",
      "Finding duplicate groups with threshold >= 0.98\n",
      "  Found 158 requirement pairs above threshold\n",
      "  Identified 32 duplicate groups\n",
      "  Will remove 50 duplicate requirements\n",
      "\n",
      "Deduplication Results:\n",
      "  Original requirements: 120\n",
      "  Duplicates removed: 50\n",
      "  Final requirements: 70\n",
      "Writing 70 requirements to checkpoints/demo/requirements_downselect/consolidated_reqs.md\n",
      "\n",
      "Output saved in Markdown format:\n",
      "  checkpoints/demo/requirements_downselect/consolidated_reqs.md\n"
     ]
    },
    {
     "data": {
      "text/plain": [
       "{'input_files': {'markdown': ['checkpoints/demo/requirements_revision/10claude_refined_requirements_20250829_102851.md',\n",
       "   'checkpoints/demo/requirements_revision/claude_refined_requirements_20250829_102328.md',\n",
       "   'checkpoints/demo/requirements_revision/claude_refined_requirements_20250829_102851.md',\n",
       "   'checkpoints/demo/requirements_revision/claude_refined_requirements_20250901_212912.md']},\n",
       " 'original_count': 120,\n",
       " 'duplicates_removed': 50,\n",
       " 'final_count': 70,\n",
       " 'threshold': 0.98,\n",
       " 'output_format': 'markdown',\n",
       " 'output_files': ['checkpoints/demo/requirements_downselect/consolidated_reqs.md'],\n",
       " 'output_dir': 'checkpoints/demo/requirements_downselect'}"
      ]
     },
     "execution_count": 11,
     "metadata": {},
     "output_type": "execute_result"
    }
   ],
   "source": [
    "md_files_list=reqs_downselect_05.get_md_files_from_directory(\"checkpoints/demo/requirements_revision/\")\n",
    "\n",
    "reqs_downselect_05.full_pass(\n",
    "    md_files=md_files_list,\n",
    "    output_dir=\"checkpoints/demo/requirements_downselect\"\n",
    ")"
   ]
  },
  {
   "cell_type": "markdown",
   "id": "669a69ed",
   "metadata": {},
   "source": [
    "## Stage 3: Test Plan Generation\n",
    "- Transforms requirements into detailed test specifications\n",
    "- Analyzes IG capability statements for context\n",
    "- Generates implementation strategies with specific FHIR operations\n",
    "- Creates structured test plans with validation criteria\n",
    "\n",
    "Inputs: Refined requirements and IG capability statements in markdown format\n",
    "\n",
    "Outputs: Detailed test plan in markdown format"
   ]
  },
  {
   "cell_type": "code",
   "execution_count": 13,
   "id": "2179dba5",
   "metadata": {},
   "outputs": [],
   "source": [
    "import logging\n",
    "llm_clients.logger.setLevel(logging.INFO)"
   ]
  },
  {
   "cell_type": "code",
   "execution_count": null,
   "id": "5cf1f5b1",
   "metadata": {},
   "outputs": [
    {
     "name": "stdout",
     "output_type": "stream",
     "text": [
      "No existing collection found: capability_statements\n"
     ]
    },
    {
     "name": "stderr",
     "output_type": "stream",
     "text": [
      "INFO:backoff:Backing off send_request(...) for 0.2s (requests.exceptions.SSLError: HTTPSConnectionPool(host='us.i.posthog.com', port=443): Max retries exceeded with url: /batch/ (Caused by SSLError(SSLCertVerificationError(1, '[SSL: CERTIFICATE_VERIFY_FAILED] certificate verify failed: unable to get local issuer certificate (_ssl.c:1000)'))))\n",
      "INFO:backoff:Backing off send_request(...) for 1.7s (requests.exceptions.SSLError: HTTPSConnectionPool(host='us.i.posthog.com', port=443): Max retries exceeded with url: /batch/ (Caused by SSLError(SSLCertVerificationError(1, '[SSL: CERTIFICATE_VERIFY_FAILED] certificate verify failed: unable to get local issuer certificate (_ssl.c:1000)'))))\n",
      "INFO:backoff:Backing off send_request(...) for 0.6s (requests.exceptions.SSLError: HTTPSConnectionPool(host='us.i.posthog.com', port=443): Max retries exceeded with url: /batch/ (Caused by SSLError(SSLCertVerificationError(1, '[SSL: CERTIFICATE_VERIFY_FAILED] certificate verify failed: unable to get local issuer certificate (_ssl.c:1000)'))))\n",
      "ERROR:backoff:Giving up send_request(...) after 4 tries (requests.exceptions.SSLError: HTTPSConnectionPool(host='us.i.posthog.com', port=443): Max retries exceeded with url: /batch/ (Caused by SSLError(SSLCertVerificationError(1, '[SSL: CERTIFICATE_VERIFY_FAILED] certificate verify failed: unable to get local issuer certificate (_ssl.c:1000)'))))\n"
     ]
    }
   ],
   "source": [
    "import warnings\n",
    "import urllib3\n",
    "urllib3.disable_warnings(urllib3.exceptions.InsecureRequestWarning)\n",
    "\n",
    "# Set logging level to reduce noise\n",
    "logging.getLogger(\"urllib3.connectionpool\").setLevel(logging.ERROR)\n",
    "logging.getLogger(\"backoff\").setLevel(logging.ERROR)\n",
    "\n",
    "import test_plan_06 #import test plan generation script as module\n",
    "importlib.reload(test_plan_06)\n",
    "\n",
    "#clearing any existing capability statements from vector database\n",
    "test_plan_06.clear_capability_collection(\"capability_statements\")"
   ]
  },
  {
   "cell_type": "code",
   "execution_count": 18,
   "id": "a668d468",
   "metadata": {},
   "outputs": [
    {
     "name": "stdout",
     "output_type": "stream",
     "text": [
      "\n",
      "================================================================================\n",
      "FHIR TEST PLAN GENERATION\n",
      "================================================================================\n",
      "Implementation Guide: US Core IG\n",
      "Requirements file: checkpoints/demo/requirements_downselect/consolidated_reqs.md\n",
      "Capability file: checkpoints/markdown2/CapabilityStatement-us-core-server.md\n",
      "API: claude\n",
      "Output directory: checkpoints/demo/testplan_generation\n",
      "\n",
      "Loading requirements...\n",
      "Loaded 11 requirements\n",
      "Setting up capability knowledge base...\n",
      "Capability knowledge base ready\n",
      "\n",
      "Grouping requirements...\n",
      "  Analyzing requirement 1/11: C\r"
     ]
    },
    {
     "name": "stderr",
     "output_type": "stream",
     "text": [
      "INFO:backoff:Backing off send_request(...) for 0.1s (requests.exceptions.SSLError: HTTPSConnectionPool(host='us.i.posthog.com', port=443): Max retries exceeded with url: /batch/ (Caused by SSLError(SSLCertVerificationError(1, '[SSL: CERTIFICATE_VERIFY_FAILED] certificate verify failed: unable to get local issuer certificate (_ssl.c:1000)'))))\n",
      "INFO:backoff:Backing off send_request(...) for 0.6s (requests.exceptions.SSLError: HTTPSConnectionPool(host='us.i.posthog.com', port=443): Max retries exceeded with url: /batch/ (Caused by SSLError(SSLCertVerificationError(1, '[SSL: CERTIFICATE_VERIFY_FAILED] certificate verify failed: unable to get local issuer certificate (_ssl.c:1000)'))))\n",
      "INFO:backoff:Backing off send_request(...) for 0.1s (requests.exceptions.SSLError: HTTPSConnectionPool(host='us.i.posthog.com', port=443): Max retries exceeded with url: /batch/ (Caused by SSLError(SSLCertVerificationError(1, '[SSL: CERTIFICATE_VERIFY_FAILED] certificate verify failed: unable to get local issuer certificate (_ssl.c:1000)'))))\n",
      "ERROR:backoff:Giving up send_request(...) after 4 tries (requests.exceptions.SSLError: HTTPSConnectionPool(host='us.i.posthog.com', port=443): Max retries exceeded with url: /batch/ (Caused by SSLError(SSLCertVerificationError(1, '[SSL: CERTIFICATE_VERIFY_FAILED] certificate verify failed: unable to get local issuer certificate (_ssl.c:1000)'))))\n"
     ]
    },
    {
     "name": "stdout",
     "output_type": "stream",
     "text": [
      "  Completed grouping 11 requirements                    \n",
      "\n",
      "Requirements organized into 2 groups:\n",
      "  • I cannot analyze this requirement because all the fields (Summary, Text, Context, Verification, Actor, Conformance, Conditional, and Source) are empty. Without any content describing what the requirement actually specifies, it's impossible to determine which resource profile or category it belongs to.: 1 requirements\n",
      "  • Condition: 10 requirements\n",
      "\n",
      "Generating test specifications...\n",
      "\n",
      "[Condition] Processing 10 requirements...\n",
      "  [1/11] REQ-001\n",
      "Processing REQ-001: US Core server should support vread and history-instance interactions for Condition\n",
      "\n",
      "================================================================================\n",
      "RAG RETRIEVAL FOR REQ-001\n",
      "================================================================================\n",
      "Query: US Core server should support vread and history-instance interactions for Condition \"SHOULD support `vread`, `history-instance`.\" Defining recommended interaction capabilities for Condition resources in US Core Server CapabilityStatement US Core Server FHIR SHOULD\n",
      "Searching for 2 most relevant capability chunks...\n",
      "\n",
      "Found 2 matching chunks:\n",
      "\n",
      "  Match 1 (distance: 0.8615819215774536):\n",
      "  Length: 1452 chars\n",
      "  Preview: FHIR Major Section: ## 14.3 CapabilityStatement: US Core Server CapabilityStatement\n",
      "\n",
      "|  |  |  |  |  ...\n",
      "  ...pi.json) | [Download](us-core-server.openapi.json)\n",
      "\n",
      "  Match 2 (distance: 0.9163459539413452):\n",
      "  Length: 83 chars\n",
      "  Preview: FHIR Document Title: # 14.3 CapabilityStatement: US Core Server CapabilityStatement...\n",
      "================================================================================\n",
      "\n",
      "Sending request to CLAUDE API...\n",
      "Completed test specification for REQ-001\n",
      "  [2/11] REQ-002\n",
      "Processing REQ-002: US Core server shall be capable of returning Condition resource using GET by ID\n",
      "\n",
      "================================================================================\n",
      "RAG RETRIEVAL FOR REQ-002\n",
      "================================================================================\n",
      "Query: US Core server shall be capable of returning Condition resource using GET by ID \"A Server SHALL be capable of returning a Condition resource using: `GET [base]/Condition/[id]`\" Defining fetch capability requirements for individual Condition resources US Core Server FHIR SHALL\n",
      "Searching for 2 most relevant capability chunks...\n",
      "\n",
      "Found 2 matching chunks:\n",
      "\n",
      "  Match 1 (distance: 0.8396906852722168):\n",
      "  Length: 1452 chars\n",
      "  Preview: FHIR Major Section: ## 14.3 CapabilityStatement: US Core Server CapabilityStatement\n",
      "\n",
      "|  |  |  |  |  ...\n",
      "  ...pi.json) | [Download](us-core-server.openapi.json)\n",
      "\n",
      "  Match 2 (distance: 0.8701598048210144):\n",
      "  Length: 2229 chars\n",
      "  Preview: FHIR Resource/Component: ### 14.3.2 FHIR RESTful Capabilities\n",
      "\n",
      "The US Core Server **SHALL**:\n",
      "\n",
      "1. Sup...\n",
      "  ... **MAY** support the `history-system` interaction.\n",
      "================================================================================\n",
      "\n",
      "Sending request to CLAUDE API...\n",
      "Completed test specification for REQ-002\n",
      "  [3/11] REQ-003\n",
      "Processing REQ-003: US Core server shall support Provenance revinclude for Condition searches\n",
      "\n",
      "================================================================================\n",
      "RAG RETRIEVAL FOR REQ-003\n",
      "================================================================================\n",
      "Query: US Core server shall support Provenance revinclude for Condition searches \"A Server SHALL be capable of supporting the following _revincludes: Provenance:target - `GET [base]/Condition?[parameter=value]&_revinclude=Provenance:target`\" Defining required reverse include capability for retrieving Provenance resources that reference Condition resources US Core Server FHIR SHALL\n",
      "Searching for 2 most relevant capability chunks...\n",
      "\n",
      "Found 2 matching chunks:\n",
      "\n",
      "  Match 1 (distance: 0.8514004945755005):\n",
      "  Length: 90628 chars\n",
      "  Preview: FHIR Resource Detail: #### 14.3.3.2 AllergyIntolerance\n",
      "\n",
      "Conformance Expectation: **SHALL**\n",
      "\n",
      "Supporte...\n",
      "  ...d read/write formats for notes on the server.\n",
      "\n",
      "---\n",
      "\n",
      "  Match 2 (distance: 0.9239374399185181):\n",
      "  Length: 2229 chars\n",
      "  Preview: FHIR Resource/Component: ### 14.3.2 FHIR RESTful Capabilities\n",
      "\n",
      "The US Core Server **SHALL**:\n",
      "\n",
      "1. Sup...\n",
      "  ... **MAY** support the `history-system` interaction.\n",
      "================================================================================\n",
      "\n",
      "Sending request to CLAUDE API...\n",
      "Completed test specification for REQ-003\n",
      "  [4/11] REQ-004\n",
      "Processing REQ-004: US Core server shall support patient search parameter for Condition\n",
      "\n",
      "================================================================================\n",
      "RAG RETRIEVAL FOR REQ-004\n",
      "================================================================================\n",
      "Query: US Core server shall support patient search parameter for Condition \"SHALL [patient] reference\" Defining mandatory search parameter support for finding Condition resources by patient reference US Core Server FHIR SHALL\n",
      "Searching for 2 most relevant capability chunks...\n",
      "\n",
      "Found 2 matching chunks:\n",
      "\n",
      "  Match 1 (distance: 0.7029471397399902):\n",
      "  Length: 1452 chars\n",
      "  Preview: FHIR Major Section: ## 14.3 CapabilityStatement: US Core Server CapabilityStatement\n",
      "\n",
      "|  |  |  |  |  ...\n",
      "  ...pi.json) | [Download](us-core-server.openapi.json)\n",
      "\n",
      "  Match 2 (distance: 0.7662544846534729):\n",
      "  Length: 2229 chars\n",
      "  Preview: FHIR Resource/Component: ### 14.3.2 FHIR RESTful Capabilities\n",
      "\n",
      "The US Core Server **SHALL**:\n",
      "\n",
      "1. Sup...\n",
      "  ... **MAY** support the `history-system` interaction.\n",
      "================================================================================\n",
      "\n",
      "Sending request to CLAUDE API...\n",
      "Completed test specification for REQ-004\n",
      "  [5/11] REQ-005\n",
      "Processing REQ-005: Server support for Encounter Diagnosis referencing encounter\n",
      "\n",
      "================================================================================\n",
      "RAG RETRIEVAL FOR REQ-005\n",
      "================================================================================\n",
      "Query: Server support for Encounter Diagnosis referencing encounter \"When `Condition.category` is 'encounter-diagnosis' the encounter, **SHOULD** be referenced in `Condition.encounter`.\" When using US Core Condition Encounter Diagnosis Profile for encounter diagnosis conditions, the related encounter should be referenced to maintain clinical context linkage US Core Server FHIR SHOULD\n",
      "Searching for 2 most relevant capability chunks...\n",
      "\n",
      "Found 2 matching chunks:\n",
      "\n",
      "  Match 1 (distance: 0.8486335873603821):\n",
      "  Length: 90628 chars\n",
      "  Preview: FHIR Resource Detail: #### 14.3.3.2 AllergyIntolerance\n",
      "\n",
      "Conformance Expectation: **SHALL**\n",
      "\n",
      "Supporte...\n",
      "  ...d read/write formats for notes on the server.\n",
      "\n",
      "---\n",
      "\n",
      "  Match 2 (distance: 0.884549617767334):\n",
      "  Length: 9735 chars\n",
      "  Preview: FHIR Resource/Component: ### 14.3.3 RESTful Capabilities by Resource/Profile: #### 14.3.3.1 Summary\n",
      "...\n",
      "  ...| [ValueSet](#valueset) | - | - | - | - | expand |\n",
      "================================================================================\n",
      "\n",
      "Sending request to CLAUDE API...\n",
      "Completed test specification for REQ-005\n",
      "  [6/11] REQ-006\n",
      "Processing REQ-006: Clinical status presence for problems list items\n",
      "\n",
      "================================================================================\n",
      "RAG RETRIEVAL FOR REQ-006\n",
      "================================================================================\n",
      "Query: Clinical status presence for problems list items \"When `Condition.category` is a 'problems-list-item', the `Condition.clinicalStatus` **SHOULD** be present.\" When using US Core Condition Problems and Health Concerns Profile for problems list items, clinical status should be included to indicate the current state of the condition US Core Server FHIR SHOULD\n",
      "Searching for 2 most relevant capability chunks...\n",
      "\n",
      "Found 2 matching chunks:\n",
      "\n",
      "  Match 1 (distance: 0.8604792356491089):\n",
      "  Length: 1452 chars\n",
      "  Preview: FHIR Major Section: ## 14.3 CapabilityStatement: US Core Server CapabilityStatement\n",
      "\n",
      "|  |  |  |  |  ...\n",
      "  ...pi.json) | [Download](us-core-server.openapi.json)\n",
      "\n",
      "  Match 2 (distance: 0.9102575778961182):\n",
      "  Length: 9735 chars\n",
      "  Preview: FHIR Resource/Component: ### 14.3.3 RESTful Capabilities by Resource/Profile: #### 14.3.3.1 Summary\n",
      "...\n",
      "  ...| [ValueSet](#valueset) | - | - | - | - | expand |\n",
      "================================================================================\n",
      "\n",
      "Sending request to CLAUDE API...\n",
      "Completed test specification for REQ-006\n",
      "  [7/11] REQ-007\n",
      "Processing REQ-007: Server support for Condition.recordedDate\n",
      "\n",
      "================================================================================\n",
      "RAG RETRIEVAL FOR REQ-007\n",
      "================================================================================\n",
      "Query: Server support for Condition.recordedDate \"A server **SHALL** support `Condition.recordedDate`.\" For representing dates related to condition diagnosis, servers must support the recorded date element as one of the key temporal indicators US Core Server FHIR SHALL\n",
      "Searching for 2 most relevant capability chunks...\n",
      "\n",
      "Found 2 matching chunks:\n",
      "\n",
      "  Match 1 (distance: 1.0444135665893555):\n",
      "  Length: 1452 chars\n",
      "  Preview: FHIR Major Section: ## 14.3 CapabilityStatement: US Core Server CapabilityStatement\n",
      "\n",
      "|  |  |  |  |  ...\n",
      "  ...pi.json) | [Download](us-core-server.openapi.json)\n",
      "\n",
      "  Match 2 (distance: 1.1116570234298706):\n",
      "  Length: 83 chars\n",
      "  Preview: FHIR Document Title: # 14.3 CapabilityStatement: US Core Server CapabilityStatement...\n",
      "================================================================================\n",
      "\n",
      "Sending request to CLAUDE API...\n",
      "Completed test specification for REQ-007\n",
      "  [8/11] REQ-008\n",
      "Processing REQ-008: Server support for at least one onset-related date element\n",
      "\n",
      "================================================================================\n",
      "RAG RETRIEVAL FOR REQ-008\n",
      "================================================================================\n",
      "Query: Server support for at least one onset-related date element \"A server **SHALL** support at least one of the assertedDate Extension and `Condition.onsetDateTime`.\" For representing dates related to condition diagnosis, servers must support at least one onset-related temporal element in addition to recordedDate US Core Server FHIR SHALL\n",
      "Searching for 2 most relevant capability chunks...\n",
      "\n",
      "Found 2 matching chunks:\n",
      "\n",
      "  Match 1 (distance: 1.0340845584869385):\n",
      "  Length: 1452 chars\n",
      "  Preview: FHIR Major Section: ## 14.3 CapabilityStatement: US Core Server CapabilityStatement\n",
      "\n",
      "|  |  |  |  |  ...\n",
      "  ...pi.json) | [Download](us-core-server.openapi.json)\n",
      "\n",
      "  Match 2 (distance: 1.2159615755081177):\n",
      "  Length: 83 chars\n",
      "  Preview: FHIR Document Title: # 14.3 CapabilityStatement: US Core Server CapabilityStatement...\n",
      "================================================================================\n",
      "\n",
      "Sending request to CLAUDE API...\n",
      "Completed test specification for REQ-008\n",
      "  [9/11] REQ-009\n",
      "Processing REQ-009: Client support for all three date elements\n",
      "\n",
      "================================================================================\n",
      "RAG RETRIEVAL FOR REQ-009\n",
      "================================================================================\n",
      "Query: Client support for all three date elements \"The client application **SHALL** support all three elements [assertedDate Extension, `Condition.onsetDateTime`, and `Condition.recordedDate`].\" Client applications must be capable of processing all possible date elements that servers might provide for condition temporal information US Core Client FHIR SHALL\n",
      "Searching for 2 most relevant capability chunks...\n",
      "\n",
      "Found 2 matching chunks:\n",
      "\n",
      "  Match 1 (distance: 1.1565313339233398):\n",
      "  Length: 1452 chars\n",
      "  Preview: FHIR Major Section: ## 14.3 CapabilityStatement: US Core Server CapabilityStatement\n",
      "\n",
      "|  |  |  |  |  ...\n",
      "  ...pi.json) | [Download](us-core-server.openapi.json)\n",
      "\n",
      "  Match 2 (distance: 1.2915809154510498):\n",
      "  Length: 83 chars\n",
      "  Preview: FHIR Document Title: # 14.3 CapabilityStatement: US Core Server CapabilityStatement...\n",
      "================================================================================\n",
      "\n",
      "Sending request to CLAUDE API...\n",
      "Completed test specification for REQ-009\n",
      "  [10/11] REQ-010\n",
      "Processing REQ-010: Updates to lastUpdated for condition changes\n",
      "\n",
      "================================================================================\n",
      "RAG RETRIEVAL FOR REQ-010\n",
      "================================================================================\n",
      "Query: Updates to lastUpdated for condition changes \"Updates to `Condition.meta.lastUpdated` **SHOULD** reflect: New problems and health concerns, Changes in the clinical status or verifications status of problems or health concern\" Servers should maintain accurate lastUpdated timestamps to support temporal queries and change tracking for condition resources US Core Server FHIR SHOULD\n",
      "Searching for 2 most relevant capability chunks...\n",
      "\n",
      "Found 2 matching chunks:\n",
      "\n",
      "  Match 1 (distance: 0.9823336601257324):\n",
      "  Length: 1452 chars\n",
      "  Preview: FHIR Major Section: ## 14.3 CapabilityStatement: US Core Server CapabilityStatement\n",
      "\n",
      "|  |  |  |  |  ...\n",
      "  ...pi.json) | [Download](us-core-server.openapi.json)\n",
      "\n",
      "  Match 2 (distance: 1.088176965713501):\n",
      "  Length: 90628 chars\n",
      "  Preview: FHIR Resource Detail: #### 14.3.3.2 AllergyIntolerance\n",
      "\n",
      "Conformance Expectation: **SHALL**\n",
      "\n",
      "Supporte...\n",
      "  ...d read/write formats for notes on the server.\n",
      "\n",
      "---\n",
      "================================================================================\n",
      "\n",
      "Sending request to CLAUDE API...\n",
      "Completed test specification for REQ-010\n",
      "  Completed 10 requirements                    \n",
      "\n",
      "[I cannot analyze this requirement because all the fields (Summary, Text, Context, Verification, Actor, Conformance, Conditional, and Source) are empty. Without any content describing what the requirement actually specifies, it's impossible to determine which resource profile or category it belongs to.] Processing 1 requirements...\n",
      "  [11/11] C\n",
      "Processing C: No summary\n",
      "\n",
      "================================================================================\n",
      "RAG RETRIEVAL FOR C\n",
      "================================================================================\n",
      "Query: FHIR \n",
      "Searching for 2 most relevant capability chunks...\n",
      "\n",
      "Found 2 matching chunks:\n",
      "\n",
      "  Match 1 (distance: 1.1055324077606201):\n",
      "  Length: 2229 chars\n",
      "  Preview: FHIR Resource/Component: ### 14.3.2 FHIR RESTful Capabilities\n",
      "\n",
      "The US Core Server **SHALL**:\n",
      "\n",
      "1. Sup...\n",
      "  ... **MAY** support the `history-system` interaction.\n",
      "\n",
      "  Match 2 (distance: 1.1729710102081299):\n",
      "  Length: 183 chars\n",
      "  Preview: FHIR Resource/Component: ### 14.3.1 SHOULD Support the Following Implementation Guides:\n",
      "\n",
      "* [SMART Ap...\n",
      "  ...(https://hl7.org/fhir/smart-app-launch/index.html)\n",
      "================================================================================\n",
      "\n",
      "Sending request to CLAUDE API...\n",
      "Completed test specification for C\n",
      "  Completed 1 requirements                    \n",
      "\n",
      "================================================================================\n",
      "TEST PLAN GENERATION COMPLETE!\n",
      "Output file: checkpoints/demo/testplan_generation/test_plan.md\n",
      "Total requirements: 11\n",
      "Requirement groups: 2\n",
      "================================================================================\n"
     ]
    },
    {
     "data": {
      "text/plain": [
       "{'requirements_count': 11,\n",
       " 'group_count': 2,\n",
       " 'test_plan_path': 'checkpoints/demo/testplan_generation/test_plan.md'}"
      ]
     },
     "execution_count": 18,
     "metadata": {},
     "output_type": "execute_result"
    }
   ],
   "source": [
    "test_plan_06.generate_consolidated_test_plan(\n",
    "    client_instance=llm_clients, \n",
    "    api_type='claude',\n",
    "    requirements_file=\"checkpoints/demo/requirements_downselect/consolidated_reqs.md\", #input requirements list markdown file\n",
    "    capability_statement_file=\"checkpoints/markdown2/CapabilityStatement-us-core-server.md\", \n",
    "    ig_name=\"US Core IG\", \n",
    "    output_dir='checkpoints/demo/testplan_generation/', \n",
    "    verbose=True)"
   ]
  },
  {
   "cell_type": "markdown",
   "id": "d080ace6",
   "metadata": {},
   "source": [
    "## Stage 4: Test Kit Generation\n",
    "- Converts test specifications into executable Inferno Ruby tests\n",
    "- Generates complete test suites with proper file organization\n",
    "- Creates modular test structures following Inferno framework patterns\n",
    "- Includes validation and alignment checking\n",
    "\n",
    "Inputs: Test plan specification in markdown format\n",
    "\n",
    "Outputs: Complete Inferno test kit"
   ]
  },
  {
   "cell_type": "code",
   "execution_count": 24,
   "id": "4ef90585",
   "metadata": {},
   "outputs": [
    {
     "data": {
      "text/plain": [
       "<module 'test_kit_07' from '/Users/ceadams/Documents/onclaive/onclaive/pipeline/test_kit_07.py'>"
      ]
     },
     "execution_count": 24,
     "metadata": {},
     "output_type": "execute_result"
    }
   ],
   "source": [
    "import test_kit_07\n",
    "importlib.reload(test_kit_07)"
   ]
  },
  {
   "cell_type": "markdown",
   "id": "771131c2",
   "metadata": {},
   "source": [
    "Without LLM Self Evaluation"
   ]
  },
  {
   "cell_type": "code",
   "execution_count": 25,
   "id": "a684acff",
   "metadata": {},
   "outputs": [
    {
     "name": "stdout",
     "output_type": "stream",
     "text": [
      "\n",
      "================================================================================\n",
      "INFERNO TEST KIT GENERATION\n",
      "================================================================================\n",
      "Module: US Core\n",
      "Test plan: checkpoints/demo/testplan_generation/test_plan.md\n",
      "API: claude\n",
      "LLM Validation: Disabled\n",
      "\n",
      "Parsing test plan...\n",
      "Found 10 requirements in test plan\n",
      "Processing requirement: REQ-001\n",
      "Added requirement REQ-001 to section Condition\n",
      "Processing requirement: REQ-002\n",
      "Added requirement REQ-002 to section Condition\n",
      "Processing requirement: REQ-003\n",
      "Added requirement REQ-003 to section Condition\n",
      "Processing requirement: REQ-004\n",
      "Added requirement REQ-004 to section Condition\n",
      "Processing requirement: REQ-005\n",
      "Added requirement REQ-005 to section Condition\n",
      "Processing requirement: REQ-006\n",
      "Added requirement REQ-006 to section Condition\n",
      "Processing requirement: REQ-007\n",
      "Added requirement REQ-007 to section Condition\n",
      "Processing requirement: REQ-008\n",
      "Added requirement REQ-008 to section Condition\n",
      "Processing requirement: REQ-009\n",
      "Added requirement REQ-009 to section Condition\n",
      "Processing requirement: REQ-010\n",
      "Added requirement REQ-010 to section Condition\n",
      "Final sections: ['Condition']\n",
      "  Condition: 10 requirements\n",
      "Found 1 sections with 10 total requirements\n",
      "Loading Inferno DSL guidance...\n",
      "\n",
      "Generating tests...\n",
      "[1/1] Processing: Condition\n"
     ]
    },
    {
     "name": "stderr",
     "output_type": "stream",
     "text": [
      "WARNING:root:Generated tests for only 0 of 10 requirements in section: Condition\n"
     ]
    },
    {
     "name": "stdout",
     "output_type": "stream",
     "text": [
      "  Generated 10 tests\n",
      "\n",
      "Generated 10 total tests\n",
      "Writing test files...\n",
      "  Created section: condition with 10 tests\n",
      "Analyzing generated test files...\n",
      "Generating main module file...\n",
      "Skipping alignment validation (disabled)\n",
      "\n",
      "================================================================================\n",
      "TEST KIT GENERATION COMPLETE!\n",
      "Output directory: checkpoints/demo/testkit_generation/claude_testkit_20250901_215109\n",
      "Module file: claude_us_core_20250901_215109.rb\n",
      "Total sections: 1\n",
      "Total requirements: 10\n",
      "Generated tests: 10\n",
      "LLM validation: Disabled\n",
      "================================================================================\n"
     ]
    },
    {
     "data": {
      "text/plain": [
       "{'total_sections': 1,\n",
       " 'total_requirements': 10,\n",
       " 'generated_tests': 10,\n",
       " 'module_dir': 'checkpoints/demo/testkit_generation/claude_testkit_20250901_215109/us_core',\n",
       " 'module_file': 'checkpoints/demo/testkit_generation/claude_testkit_20250901_215109/claude_us_core_20250901_215109.rb',\n",
       " 'output_dir': 'checkpoints/demo/testkit_generation/claude_testkit_20250901_215109',\n",
       " 'timestamp': '20250901_215109',\n",
       " 'validation_enabled': False}"
      ]
     },
     "execution_count": 25,
     "metadata": {},
     "output_type": "execute_result"
    }
   ],
   "source": [
    "# Faster generation- no LLM self evaluation\n",
    "test_kit_07.generate_inferno_test_kit(\n",
    "    client_instance=llm_clients, #initialize llm clients\n",
    "    api_type='claude',  #set API\n",
    "    test_plan_file='checkpoints/demo/testplan_generation/test_plan.md',  #input test plan file\n",
    "    ig_name='US Core',\n",
    "    output_dir='checkpoints/demo/testkit_generation/',\n",
    "    enable_validation=False  #disable LLM self evaluation\n",
    ")"
   ]
  },
  {
   "cell_type": "markdown",
   "id": "6d11cfdf",
   "metadata": {},
   "source": [
    "With LLM Self Evaluation"
   ]
  },
  {
   "cell_type": "code",
   "execution_count": 26,
   "id": "75d5d430",
   "metadata": {},
   "outputs": [
    {
     "name": "stdout",
     "output_type": "stream",
     "text": [
      "\n",
      "================================================================================\n",
      "INFERNO TEST KIT GENERATION\n",
      "================================================================================\n",
      "Module: US Core\n",
      "Test plan: checkpoints/demo/testplan_generation/test_plan.md\n",
      "API: claude\n",
      "LLM Validation: Enabled\n",
      "\n",
      "Parsing test plan...\n",
      "Found 10 requirements in test plan\n",
      "Processing requirement: REQ-001\n",
      "Added requirement REQ-001 to section Condition\n",
      "Processing requirement: REQ-002\n",
      "Added requirement REQ-002 to section Condition\n",
      "Processing requirement: REQ-003\n",
      "Added requirement REQ-003 to section Condition\n",
      "Processing requirement: REQ-004\n",
      "Added requirement REQ-004 to section Condition\n",
      "Processing requirement: REQ-005\n",
      "Added requirement REQ-005 to section Condition\n",
      "Processing requirement: REQ-006\n",
      "Added requirement REQ-006 to section Condition\n",
      "Processing requirement: REQ-007\n",
      "Added requirement REQ-007 to section Condition\n",
      "Processing requirement: REQ-008\n",
      "Added requirement REQ-008 to section Condition\n",
      "Processing requirement: REQ-009\n",
      "Added requirement REQ-009 to section Condition\n",
      "Processing requirement: REQ-010\n",
      "Added requirement REQ-010 to section Condition\n",
      "Final sections: ['Condition']\n",
      "  Condition: 10 requirements\n",
      "Found 1 sections with 10 total requirements\n",
      "Loading Inferno DSL guidance...\n",
      "\n",
      "Generating tests...\n",
      "[1/1] Processing: Condition\n"
     ]
    },
    {
     "name": "stderr",
     "output_type": "stream",
     "text": [
      "WARNING:root:Generated tests for only 0 of 10 requirements in section: Condition\n"
     ]
    },
    {
     "name": "stdout",
     "output_type": "stream",
     "text": [
      "  Generated 10 tests\n",
      "\n",
      "Generated 10 total tests\n",
      "Writing test files...\n",
      "  Created section: condition with 10 tests\n",
      "Analyzing generated test files...\n",
      "Generating main module file...\n",
      "Performing alignment validation...\n",
      "  Alignment validation completed successfully\n",
      "  Applied fixes to module file\n",
      "\n",
      "================================================================================\n",
      "TEST KIT GENERATION COMPLETE!\n",
      "Output directory: checkpoints/demo/testkit_generation/claude_testkit_20250901_215618\n",
      "Module file: claude_us_core_20250901_215618.rb\n",
      "Total sections: 1\n",
      "Total requirements: 10\n",
      "Generated tests: 10\n",
      "LLM validation: Enabled\n",
      "================================================================================\n"
     ]
    },
    {
     "data": {
      "text/plain": [
       "{'total_sections': 1,\n",
       " 'total_requirements': 10,\n",
       " 'generated_tests': 10,\n",
       " 'module_dir': 'checkpoints/demo/testkit_generation/claude_testkit_20250901_215618/us_core',\n",
       " 'module_file': 'checkpoints/demo/testkit_generation/claude_testkit_20250901_215618/claude_us_core_20250901_215618.rb',\n",
       " 'output_dir': 'checkpoints/demo/testkit_generation/claude_testkit_20250901_215618',\n",
       " 'timestamp': '20250901_215618',\n",
       " 'validation_enabled': True}"
      ]
     },
     "execution_count": 26,
     "metadata": {},
     "output_type": "execute_result"
    }
   ],
   "source": [
    "# Thorough generation- with LLM self evaluation\n",
    "test_kit_07.generate_inferno_test_kit(\n",
    "    client_instance=llm_clients, #initialize llm clients\n",
    "    api_type='claude',  #set API\n",
    "    test_plan_file='checkpoints/demo/testplan_generation/test_plan.md',  #input test plan file\n",
    "    ig_name='US Core',\n",
    "    output_dir='checkpoints/demo/testkit_generation/',\n",
    "    enable_validation=True  #enable LLM self evaluation\n",
    ")"
   ]
  }
 ],
 "metadata": {
  "kernelspec": {
   "display_name": ".venv (3.12.6)",
   "language": "python",
   "name": "python3"
  },
  "language_info": {
   "codemirror_mode": {
    "name": "ipython",
    "version": 3
   },
   "file_extension": ".py",
   "mimetype": "text/x-python",
   "name": "python",
   "nbconvert_exporter": "python",
   "pygments_lexer": "ipython3",
   "version": "3.12.6"
  }
 },
 "nbformat": 4,
 "nbformat_minor": 5
}
